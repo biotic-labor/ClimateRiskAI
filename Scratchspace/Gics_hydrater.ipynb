{
 "cells": [
  {
   "cell_type": "code",
   "execution_count": 44,
   "metadata": {},
   "outputs": [],
   "source": [
    "import warnings\n",
    "import sys\n",
    "sys.path.append('../')\n",
    "from Notebooks.helper import load_env\n",
    "\n",
    "warnings.filterwarnings('ignore')\n",
    "load_env()"
   ]
  },
  {
   "cell_type": "markdown",
   "metadata": {},
   "source": [
    "Import all the required dependencies"
   ]
  },
  {
   "cell_type": "code",
   "execution_count": 45,
   "metadata": {},
   "outputs": [],
   "source": [
    "from haystack import Pipeline\n",
    "from haystack.components.builders import PromptBuilder\n",
    "from haystack.components.generators import OpenAIGenerator\n",
    "import os\n",
    "import pandas as pd\n",
    "import json"
   ]
  },
  {
   "cell_type": "code",
   "execution_count": 46,
   "metadata": {},
   "outputs": [
    {
     "data": {
      "text/plain": [
       "<haystack.core.pipeline.pipeline.Pipeline object at 0x178008bd0>\n",
       "🚅 Components\n",
       "  - prompt: PromptBuilder\n",
       "  - generator: OpenAIGenerator\n",
       "🛤️ Connections\n",
       "  - prompt.prompt -> generator.prompt (str)"
      ]
     },
     "execution_count": 46,
     "metadata": {},
     "output_type": "execute_result"
    }
   ],
   "source": [
    "prompt = \"\"\"\n",
    "Answer the question below:\n",
    "Question: {{ query }}\n",
    "\"\"\"\n",
    "prompt_builder = PromptBuilder(template=prompt)\n",
    "generator = OpenAIGenerator(model=\"gpt-4\")\n",
    "\n",
    "query_pipeline = Pipeline()\n",
    "query_pipeline.add_component(\"prompt\", prompt_builder)\n",
    "query_pipeline.add_component(\"generator\", generator)\n",
    "\n",
    "query_pipeline.connect(\"prompt\", \"generator\")"
   ]
  },
  {
   "cell_type": "code",
   "execution_count": 47,
   "metadata": {},
   "outputs": [
    {
     "ename": "SyntaxError",
     "evalue": "unterminated string literal (detected at line 5) (3034468201.py, line 5)",
     "output_type": "error",
     "traceback": [
      "\u001b[0;36m  Cell \u001b[0;32mIn[47], line 5\u001b[0;36m\u001b[0m\n\u001b[0;31m    question = f\"Give me an unformatted list of Climate related risks and mitigations for a company who's industry is classified as {sub_industry_description}?\u001b[0m\n\u001b[0m               ^\u001b[0m\n\u001b[0;31mSyntaxError\u001b[0m\u001b[0;31m:\u001b[0m unterminated string literal (detected at line 5)\n"
     ]
    }
   ],
   "source": [
    "df = pd.read_csv('gics-map-2018.csv')\n",
    "for index, row in df.iterrows():\n",
    "    # Access the values of each column in the current row\n",
    "    sub_industry_description = row['SubIndustryDescription']\n",
    "    question = f\"Give me an unformatted list of Climate related risks and mitigations for a company who's industry is classified as {sub_industry_description}? Provide response in a single JSON array of objects, each object has an attribute risk and an attribute mitigation\"\n",
    "    result = query_pipeline.run(\n",
    "        {\n",
    "            \"prompt\": {\"query\": question},\n",
    "        }\n",
    "    )\n",
    "    print('Risks - '+result['generator']['replies'][0])\n",
    "    df.at[row.name,'Climate Risk Mitigation'] = result['generator']['replies'][0]\n",
    "\n",
    "    # question = f\"Give me an unformatted list of Risk mitigations for the following Risks: {result['generator']['replies'][0]}? Provide response in this exact JSON format: [\\\"mitigation\\\",\\\"mitigation\\\"]\"\n",
    "    # result = query_pipeline.run(\n",
    "    #     {\n",
    "    #         \"prompt\": {\"query\": question},\n",
    "    #     }\n",
    "    # )\n",
    "    print('Mitigations - '+result['generator']['replies'][0])\n",
    "\n",
    "    \n",
    "    df.to_csv('Gics_modified_gpt4.csv')"
   ]
  },
  {
   "cell_type": "markdown",
   "metadata": {},
   "source": [
    "Set up the document ingestion pipeline"
   ]
  },
  {
   "cell_type": "code",
   "execution_count": null,
   "metadata": {},
   "outputs": [],
   "source": [
    "\n",
    "\n",
    "\n"
   ]
  },
  {
   "cell_type": "code",
   "execution_count": null,
   "metadata": {},
   "outputs": [
    {
     "name": "stdout",
     "output_type": "stream",
     "text": [
      "{\n",
      "    \"industries\": [\"Bicycle industry\", \"Retail industry\"]\n",
      "}\n"
     ]
    }
   ],
   "source": [
    "print(result[\"generator\"][\"replies\"][0])"
   ]
  },
  {
   "cell_type": "code",
   "execution_count": null,
   "metadata": {},
   "outputs": [],
   "source": [
    "industry_analysis_pipeline = Pipeline()"
   ]
  }
 ],
 "metadata": {
  "kernelspec": {
   "display_name": "Python 3",
   "language": "python",
   "name": "python3"
  },
  "language_info": {
   "codemirror_mode": {
    "name": "ipython",
    "version": 3
   },
   "file_extension": ".py",
   "mimetype": "text/x-python",
   "name": "python",
   "nbconvert_exporter": "python",
   "pygments_lexer": "ipython3",
   "version": "3.11.8"
  }
 },
 "nbformat": 4,
 "nbformat_minor": 2
}
