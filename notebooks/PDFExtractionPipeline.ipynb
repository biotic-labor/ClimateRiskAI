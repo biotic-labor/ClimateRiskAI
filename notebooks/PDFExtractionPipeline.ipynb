{
 "cells": [
  {
   "cell_type": "code",
   "execution_count": 51,
   "metadata": {},
   "outputs": [],
   "source": [
    "import warnings\n",
    "from helper import load_env\n",
    "\n",
    "warnings.filterwarnings('ignore')\n",
    "load_env()"
   ]
  },
  {
   "cell_type": "markdown",
   "metadata": {},
   "source": [
    "Import all the required dependencies"
   ]
  },
  {
   "cell_type": "code",
   "execution_count": 52,
   "metadata": {},
   "outputs": [],
   "source": [
    "from haystack import Pipeline\n",
    "from haystack.document_stores.in_memory import InMemoryDocumentStore\n",
    "from haystack.components.converters import PDFMinerToDocument\n",
    "from haystack.components.preprocessors import DocumentCleaner\n",
    "from haystack.components.preprocessors import DocumentSplitter\n",
    "from haystack.components.writers import DocumentWriter\n",
    "from haystack_integrations.components.embedders.cohere.document_embedder import CohereDocumentEmbedder\n",
    "from haystack_integrations.components.embedders.cohere.text_embedder import CohereTextEmbedder\n",
    "from haystack.components.retrievers.in_memory import InMemoryEmbeddingRetriever\n",
    "from haystack.components.builders import PromptBuilder\n",
    "from haystack.components.generators import OpenAIGenerator\n",
    "import os"
   ]
  },
  {
   "cell_type": "markdown",
   "metadata": {},
   "source": [
    "Set up the document ingestion pipeline"
   ]
  },
  {
   "cell_type": "code",
   "execution_count": 47,
   "metadata": {},
   "outputs": [
    {
     "name": "stderr",
     "output_type": "stream",
     "text": [
      "Calculating embeddings: 100%|██████████| 2/2 [00:01<00:00,  1.53it/s]\n"
     ]
    },
    {
     "data": {
      "text/plain": [
       "{'embedder': {'meta': ApiMeta(api_version=ApiMetaApiVersion(version='1', is_deprecated=None, is_experimental=None), billed_units=ApiMetaBilledUnits(input_tokens=3285.0, output_tokens=None, search_units=None, classifications=None), tokens=None, warnings=[])},\n",
       " 'writer': {'documents_written': 53}}"
      ]
     },
     "execution_count": 47,
     "metadata": {},
     "output_type": "execute_result"
    }
   ],
   "source": [
    "document_store = InMemoryDocumentStore(embedding_similarity_function=\"cosine\")\n",
    "\n",
    "pipeline = Pipeline()\n",
    "pipeline.add_component(\"converter\", PDFMinerToDocument())\n",
    "pipeline.add_component(\"cleaner\", DocumentCleaner())\n",
    "pipeline.add_component(\"splitter\", DocumentSplitter(split_by=\"sentence\", split_length=5))\n",
    "pipeline.add_component(\"embedder\", CohereDocumentEmbedder(model=\"embed-english-v3.0\"))\n",
    "pipeline.add_component(\"writer\", DocumentWriter(document_store=document_store))\n",
    "\n",
    "pipeline.connect(\"converter\", \"cleaner\")\n",
    "pipeline.connect(\"cleaner\", \"splitter\")\n",
    "pipeline.connect(\"splitter\", \"embedder\")\n",
    "pipeline.connect(\"embedder\", \"writer\")\n",
    "\n",
    "pipeline.run({\"converter\": {\"sources\": [\"sample-business-plan-2015.pdf\"]}})"
   ]
  },
  {
   "cell_type": "code",
   "execution_count": 48,
   "metadata": {},
   "outputs": [],
   "source": [
    "prompt = \"\"\"\n",
    "Answer the question based on the provided context.\n",
    "Context:\n",
    "{% for doc in documents %}\n",
    "   {{ doc.content }} \n",
    "{% endfor %}\n",
    "Question: {{ query }}\n",
    "\"\"\"\n",
    "\n",
    "query_embedder = CohereTextEmbedder(model=\"embed-english-v3.0\")\n",
    "retriever = InMemoryEmbeddingRetriever(document_store=document_store)\n",
    "prompt_builder = PromptBuilder(template=prompt)\n",
    "generator = OpenAIGenerator()\n",
    "\n",
    "query_pipeline = Pipeline()\n",
    "query_pipeline.add_component(\"query_embedder\", query_embedder)\n",
    "query_pipeline.add_component(\"retriever\", InMemoryEmbeddingRetriever(document_store=document_store))\n",
    "query_pipeline.add_component(\"prompt\", prompt_builder)\n",
    "query_pipeline.add_component(\"generator\", generator)\n",
    "\n",
    "query_pipeline.connect(\"query_embedder.embedding\", \"retriever.query_embedding\")\n",
    "query_pipeline.connect(\"retriever.documents\", \"prompt.documents\")\n",
    "query_pipeline.connect(\"prompt\", \"generator\")\n",
    "\n",
    "location_question = \"What locations will the company operate in? Provide response in a JSON format like, {\\\"locations\\\": [{\\\"City\\\": \\\"\\\"}]}\"\n",
    "industries_question = \"What industries does this company fall into? Provide response in a JSON format like, {\\\"industries\\\": [\\\"\\\"]}\"\n",
    "# supply_chain_question = \"What kinds of suppliers are mentioned in the document? Provide response in a JSON format like, {\\\"suppliers\\\": [\\\"\\\"]}\"\n",
    "# nat_resource_question = \"What natural resources are mentioned in the document? Provide response in a JSON format like, {\\\"resources\\\": [\\\"\\\"]}\"\n",
    "\n",
    "industries_result = query_pipeline.run(\n",
    "    {\n",
    "        \"query_embedder\": {\"text\": industries_question},\n",
    "        \"retriever\": {\"top_k\": 1},\n",
    "        \"prompt\": {\"query\": industries_question},\n",
    "    }\n",
    ")\n",
    "\n",
    "location_result = query_pipeline.run(\n",
    "    {\n",
    "        \"query_embedder\": {\"text\": location_question},\n",
    "        \"retriever\": {\"top_k\": 1},\n",
    "        \"prompt\": {\"query\": location_question},\n",
    "    }\n",
    ")\n"
   ]
  },
  {
   "cell_type": "code",
   "execution_count": 49,
   "metadata": {},
   "outputs": [
    {
     "name": "stdout",
     "output_type": "stream",
     "text": [
      "{\"industries\": [\"Bicycle Industry\", \"Retail Industry\", \"Repair and Service Industry\"]}\n",
      "{\n",
      "    \"locations\": [\n",
      "        {\"City\": \"Abbotville\"}\n",
      "    ]\n",
      "}\n"
     ]
    }
   ],
   "source": [
    "print(industries_result[\"generator\"][\"replies\"][0])\n",
    "print(location_result[\"generator\"][\"replies\"][0])"
   ]
  },
  {
   "cell_type": "code",
   "execution_count": 50,
   "metadata": {},
   "outputs": [],
   "source": [
    "industry_analysis_pipeline = Pipeline()"
   ]
  }
 ],
 "metadata": {
  "kernelspec": {
   "display_name": "Python 3",
   "language": "python",
   "name": "python3"
  },
  "language_info": {
   "codemirror_mode": {
    "name": "ipython",
    "version": 3
   },
   "file_extension": ".py",
   "mimetype": "text/x-python",
   "name": "python",
   "nbconvert_exporter": "python",
   "pygments_lexer": "ipython3",
   "version": "3.11.8"
  }
 },
 "nbformat": 4,
 "nbformat_minor": 2
}
