{
 "cells": [
  {
   "cell_type": "code",
   "execution_count": 27,
   "metadata": {},
   "outputs": [
    {
     "name": "stdout",
     "output_type": "stream",
     "text": [
      "Apparel Retail\n",
      "{\n",
      "  \"industry\": \"Commercial & Professional Services\",\n",
      "  \"subindustry\": \"Apparel Retail\",\n",
      "  \"subindustry_id\": \"20203010\"\n",
      "}\n",
      "[]\n",
      "Since there is no information provided in the context regarding the climate risks associated with Apparel Retail, the response would be an empty json array.\n"
     ]
    }
   ],
   "source": [
    "import warnings\n",
    "from helper import load_env\n",
    "from haystack import Pipeline\n",
    "from haystack_integrations.components.embedders.cohere.text_embedder import CohereTextEmbedder\n",
    "from haystack.components.retrievers.in_memory import InMemoryEmbeddingRetriever\n",
    "from haystack.components.builders import PromptBuilder\n",
    "from haystack.components.generators import OpenAIGenerator\n",
    "from haystack_integrations.document_stores.pinecone import PineconeDocumentStore\n",
    "from haystack_integrations.components.retrievers.pinecone import PineconeEmbeddingRetriever\n",
    "import jsonpickle\n",
    "warnings.filterwarnings('ignore')\n",
    "load_env()\n",
    "\n",
    "document_store = PineconeDocumentStore(\n",
    "\t\tindex=\"industries\",\n",
    "\t\tnamespace=\"Classification\",\n",
    "        dimension=1024,\n",
    "        spec={\"serverless\": {\"region\": \"us-east-1\", \"cloud\": \"aws\"}},\n",
    ")\n",
    "\n",
    "prompt = \"\"\"\n",
    "Answer the question based on the provided context.\n",
    "Context:\n",
    "{% for doc in documents %}\n",
    "   {{ doc.content }} \n",
    "{% endfor %}\n",
    "Question: {{ query }}\n",
    "\"\"\"\n",
    "\n",
    "query_embedder = CohereTextEmbedder(model=\"embed-english-v3.0\")\n",
    "retriever = PineconeEmbeddingRetriever(document_store=document_store)\n",
    "prompt_builder = PromptBuilder(template=prompt)\n",
    "generator = OpenAIGenerator()\n",
    "\n",
    "query_pipeline = Pipeline()\n",
    "query_pipeline.add_component(\"query_embedder\", query_embedder)\n",
    "query_pipeline.add_component(\"retriever\", retriever)\n",
    "query_pipeline.add_component(\"prompt\", prompt_builder)\n",
    "query_pipeline.add_component(\"generator\", generator)\n",
    "\n",
    "query_pipeline.connect(\"query_embedder.embedding\", \"retriever.query_embedding\")\n",
    "query_pipeline.connect(\"retriever.documents\", \"prompt.documents\")\n",
    "query_pipeline.connect(\"prompt\", \"generator\")\n",
    "industry_info = \"Clothing store\"\n",
    "industry_question = \"My company is a \"+industry_info+\" : What is my Industry, SubIndustry and SubIndustryId? Provide in the json format {\\\"industry\\\":\\\"\\\", \\\"subindustry\\\":\\\"\\\", \\\"subindustry_id\\\":\\\"\\\"}\"\n",
    "\n",
    "industries_result = query_pipeline.run(\n",
    "    {\n",
    "        \"query_embedder\": {\"text\": industry_question},\n",
    "        \"retriever\": {\"top_k\": 1},\n",
    "        \"prompt\": {\"query\": industry_question},\n",
    "    }\n",
    ")\n",
    "industry = jsonpickle.decode(industries_result[\"generator\"][\"replies\"][0])\n",
    "subindustry = industry[\"subindustry\"]\n",
    "print(subindustry)\n",
    "risks_question = f\"What risks and mitigations associated with {subindustry}? Please provide response in a json array format.\"\n",
    "\n",
    "risk_result = query_pipeline.run(\n",
    "    {\n",
    "        \"query_embedder\": {\"text\": risks_question},\n",
    "        \"retriever\": {\"top_k\": 1},\n",
    "        \"prompt\": {\"query\": risks_question},\n",
    "    }\n",
    ")\n",
    "print(industries_result[\"generator\"][\"replies\"][0])\n",
    "print(risk_result[\"generator\"][\"replies\"][0])"
   ]
  }
 ],
 "metadata": {
  "kernelspec": {
   "display_name": ".venv",
   "language": "python",
   "name": "python3"
  },
  "language_info": {
   "codemirror_mode": {
    "name": "ipython",
    "version": 3
   },
   "file_extension": ".py",
   "mimetype": "text/x-python",
   "name": "python",
   "nbconvert_exporter": "python",
   "pygments_lexer": "ipython3",
   "version": "3.11.8"
  }
 },
 "nbformat": 4,
 "nbformat_minor": 2
}
