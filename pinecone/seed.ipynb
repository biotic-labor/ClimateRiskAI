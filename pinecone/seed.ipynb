{
 "cells": [
  {
   "cell_type": "code",
   "execution_count": 1,
   "metadata": {},
   "outputs": [
    {
     "name": "stderr",
     "output_type": "stream",
     "text": [
      "/Users/ccelson/Development/WorldClimate/ClimateRiskAI/.venv/lib/python3.11/site-packages/tqdm/auto.py:21: TqdmWarning: IProgress not found. Please update jupyter and ipywidgets. See https://ipywidgets.readthedocs.io/en/stable/user_install.html\n",
      "  from .autonotebook import tqdm as notebook_tqdm\n"
     ]
    }
   ],
   "source": [
    "# SPDX-FileCopyrightText: 2022-present deepset GmbH <info@deepset.ai>\n",
    "#\n",
    "# SPDX-License-Identifier: Apache-2.0\n",
    "\n",
    "import io\n",
    "from pathlib import Path\n",
    "from typing import Any, Dict, List, Optional, Union\n",
    "\n",
    "from haystack import Document, component, logging\n",
    "from haystack.components.converters.utils import get_bytestream_from_source, normalize_metadata\n",
    "from haystack.dataclasses import ByteStream\n",
    "\n",
    "logger = logging.getLogger(__name__)\n",
    "\n",
    "\n",
    "@component\n",
    "class CSVToDocument:\n",
    "    \"\"\"\n",
    "    Converts CSV files to Documents.\n",
    "\n",
    "    By default, it uses UTF-8 encoding when converting files but\n",
    "    you can also set a custom encoding.\n",
    "    It can attach metadata to the resulting documents.\n",
    "\n",
    "    ### Usage example\n",
    "\n",
    "    ```python\n",
    "    from haystack.components.converters.csv import CSVToDocument\n",
    "    converter = CSVToDocument()\n",
    "    results = converter.run(sources=[\"sample.csv\"], meta={\"date_added\": datetime.now().isoformat()})\n",
    "    documents = results[\"documents\"]\n",
    "    print(documents[0].content)\n",
    "    # 'col1,col2\\now1,row1\\nrow2row2\\n'\n",
    "    ```\n",
    "    \"\"\"\n",
    "\n",
    "    def __init__(self, encoding: str = \"utf-8\"):\n",
    "        \"\"\"\n",
    "        Creates a CSVToDocument component.\n",
    "\n",
    "        :param encoding:\n",
    "            The encoding of the csv files to convert.\n",
    "            If the encoding is specified in the metadata of a source ByteStream,\n",
    "            it overrides this value.\n",
    "        \"\"\"\n",
    "        self.encoding = encoding\n",
    "\n",
    "    @component.output_types(documents=List[Document])\n",
    "    def run(\n",
    "        self,\n",
    "        sources: List[Union[str, Path, ByteStream]],\n",
    "        meta: Optional[Union[Dict[str, Any], List[Dict[str, Any]]]] = None,\n",
    "    ):\n",
    "        \"\"\"\n",
    "        Converts a CSV file to a Document.\n",
    "\n",
    "        :param sources:\n",
    "            List of file paths or ByteStream objects.\n",
    "        :param meta:\n",
    "            Optional metadata to attach to the documents.\n",
    "            This value can be either a list of dictionaries or a single dictionary.\n",
    "            If it's a single dictionary, its content is added to the metadata of all produced documents.\n",
    "            If it's a list, the length of the list must match the number of sources, because the two lists will\n",
    "            be zipped.\n",
    "            If `sources` contains ByteStream objects, their `meta` will be added to the output documents.\n",
    "        :returns:\n",
    "            A dictionary with the following keys:\n",
    "            - `documents`: Created documents\n",
    "        \"\"\"\n",
    "        documents = []\n",
    "\n",
    "        meta_list = normalize_metadata(meta, sources_count=len(sources))\n",
    "\n",
    "        for source, metadata in zip(sources, meta_list):\n",
    "            try:\n",
    "                bytestream = get_bytestream_from_source(source)\n",
    "            except Exception as e:\n",
    "                logger.warning(\"Could not read {source}. Skipping it. Error: {error}\", source=source, error=e)\n",
    "                continue\n",
    "            try:\n",
    "                encoding = bytestream.meta.get(\"encoding\", self.encoding)\n",
    "                data = io.BytesIO(bytestream.data).getvalue().decode(encoding=encoding)\n",
    "            except Exception as e:\n",
    "                logger.warning(\n",
    "                    \"Could not convert file {source}. Skipping it. Error message: {error}\", source=source, error=e\n",
    "                )\n",
    "                continue\n",
    "\n",
    "            merged_metadata = {**bytestream.meta, **metadata}\n",
    "            document = Document(content=data, meta=merged_metadata)\n",
    "            documents.append(document)\n",
    "\n",
    "        return {\"documents\": documents}"
   ]
  },
  {
   "cell_type": "code",
   "execution_count": 2,
   "metadata": {},
   "outputs": [
    {
     "name": "stderr",
     "output_type": "stream",
     "text": [
      "/Users/ccelson/Development/WorldClimate/ClimateRiskAI/.venv/lib/python3.11/site-packages/pydantic/_internal/_config.py:341: UserWarning: Valid config keys have changed in V2:\n",
      "* 'allow_population_by_field_name' has been renamed to 'populate_by_name'\n",
      "* 'smart_union' has been removed\n",
      "  warnings.warn(message, UserWarning)\n"
     ]
    },
    {
     "data": {
      "text/plain": [
       "<haystack.core.pipeline.pipeline.Pipeline object at 0x28022c910>\n",
       "🚅 Components\n",
       "  - converter: CSVToDocument\n",
       "  - splitter: DocumentSplitter\n",
       "  - embedder: CohereDocumentEmbedder\n",
       "  - writer: DocumentWriter\n",
       "🛤️ Connections\n",
       "  - converter.documents -> splitter.documents (List[Document])\n",
       "  - splitter.documents -> embedder.documents (List[Document])\n",
       "  - embedder.documents -> writer.documents (List[Document])"
      ]
     },
     "execution_count": 2,
     "metadata": {},
     "output_type": "execute_result"
    }
   ],
   "source": [
    "import warnings\n",
    "from helper import load_env\n",
    "from haystack import Pipeline\n",
    "from haystack_integrations.document_stores.pinecone import PineconeDocumentStore\n",
    "from haystack.components.writers import DocumentWriter\n",
    "from haystack.components.preprocessors import DocumentSplitter\n",
    "from haystack_integrations.components.embedders.cohere.document_embedder import CohereDocumentEmbedder\n",
    "warnings.filterwarnings('ignore')\n",
    "load_env()\n",
    "\n",
    "document_store = PineconeDocumentStore(\n",
    "\t\tindex=\"industries\",\n",
    "\t\tnamespace=\"Classification\",\n",
    "        dimension=1024,\n",
    "        spec={\"serverless\": {\"region\": \"us-east-1\", \"cloud\": \"aws\"}},\n",
    ")\n",
    "\n",
    "pipeline = Pipeline()\n",
    "pipeline.add_component(\"converter\", CSVToDocument())\n",
    "pipeline.add_component(\"splitter\", DocumentSplitter(split_by=\"passage\", split_length=10, split_overlap=0))\n",
    "pipeline.add_component(\"embedder\", CohereDocumentEmbedder(model=\"embed-english-v3.0\"))\n",
    "pipeline.add_component(\"writer\", DocumentWriter(document_store=document_store))\n",
    "\n",
    "pipeline.connect(\"converter\", \"splitter\")\n",
    "pipeline.connect(\"splitter\", \"embedder\")\n",
    "pipeline.connect(\"embedder\", \"writer\")"
   ]
  },
  {
   "cell_type": "code",
   "execution_count": 3,
   "metadata": {},
   "outputs": [],
   "source": [
    "from datetime import datetime"
   ]
  },
  {
   "cell_type": "code",
   "execution_count": 5,
   "metadata": {},
   "outputs": [
    {
     "name": "stdout",
     "output_type": "stream",
     "text": [
      "                                                    0\n",
      "7                         Energy Equipment & Services\n",
      "8                                            10101010\n",
      "9                                  Oil & Gas Drilling\n",
      "10  Drilling contractors or owners of drilling rig...\n",
      "11  [\\n  {\\n    \"risk\": \"Higher frequency of extre...\n"
     ]
    },
    {
     "name": "stderr",
     "output_type": "stream",
     "text": [
      "Calculating embeddings: 100%|██████████| 1/1 [00:00<00:00,  7.05it/s]\n",
      "Upserted vectors: 100%|██████████| 1/1 [00:00<00:00, 12.68it/s]\n"
     ]
    },
    {
     "name": "stdout",
     "output_type": "stream",
     "text": [
      "                                                    1\n",
      "7                         Energy Equipment & Services\n",
      "8                                            10101020\n",
      "9                      Oil & Gas Equipment & Services\n",
      "10  Manufacturers of equipment, including drilling...\n",
      "11  [\\n  {\"risk\":\"Increased costs due to carbon pr...\n"
     ]
    },
    {
     "name": "stderr",
     "output_type": "stream",
     "text": [
      "Calculating embeddings: 100%|██████████| 1/1 [00:00<00:00,  7.42it/s]\n",
      "Upserted vectors: 100%|██████████| 1/1 [00:00<00:00, 13.49it/s]\n"
     ]
    },
    {
     "name": "stdout",
     "output_type": "stream",
     "text": [
      "                                                    2\n",
      "7                         Oil, Gas & Consumable Fuels\n",
      "8                                            10102010\n",
      "9                                Integrated Oil & Gas\n",
      "10  Integrated oil companies engaged in the explor...\n",
      "11  [\\n    {\\n        \"risk\": \"Extreme weather eve...\n"
     ]
    },
    {
     "name": "stderr",
     "output_type": "stream",
     "text": [
      "Calculating embeddings: 100%|██████████| 1/1 [00:00<00:00,  7.27it/s]\n",
      "Upserted vectors: 100%|██████████| 1/1 [00:00<00:00, 11.96it/s]\n"
     ]
    },
    {
     "name": "stdout",
     "output_type": "stream",
     "text": [
      "                                                    3\n",
      "7                         Oil, Gas & Consumable Fuels\n",
      "8                                            10102020\n",
      "9                  Oil & Gas Exploration & Production\n",
      "10  Companies engaged in the exploration and produ...\n",
      "11  [\\n  {\\n    \"risk\": \"Increased regulatory scru...\n"
     ]
    },
    {
     "name": "stderr",
     "output_type": "stream",
     "text": [
      "Calculating embeddings: 100%|██████████| 1/1 [00:00<00:00,  8.02it/s]\n",
      "Upserted vectors: 100%|██████████| 1/1 [00:00<00:00, 12.97it/s]\n"
     ]
    },
    {
     "name": "stdout",
     "output_type": "stream",
     "text": [
      "                                                    4\n",
      "7                         Oil, Gas & Consumable Fuels\n",
      "8                                            10102030\n",
      "9                      Oil & Gas Refining & Marketing\n",
      "10  Companies engaged in the refining and marketin...\n",
      "11  [\\n  {\"risk\": \"Increased operational costs due...\n"
     ]
    },
    {
     "name": "stderr",
     "output_type": "stream",
     "text": [
      "Calculating embeddings: 100%|██████████| 1/1 [00:00<00:00,  7.30it/s]\n",
      "Upserted vectors: 100%|██████████| 1/1 [00:00<00:00, 13.28it/s]\n"
     ]
    },
    {
     "name": "stdout",
     "output_type": "stream",
     "text": [
      "                                                    5\n",
      "7                         Oil, Gas & Consumable Fuels\n",
      "8                                            10102040\n",
      "9                  Oil & Gas Storage & Transportation\n",
      "10  Companies engaged in the storage and/or transp...\n",
      "11  [\\n  {\\n    \"risk\": \"Impact of environmental r...\n"
     ]
    },
    {
     "name": "stderr",
     "output_type": "stream",
     "text": [
      "Calculating embeddings: 100%|██████████| 1/1 [00:00<00:00,  7.00it/s]\n",
      "Upserted vectors: 100%|██████████| 1/1 [00:00<00:00,  5.57it/s]\n"
     ]
    },
    {
     "name": "stdout",
     "output_type": "stream",
     "text": [
      "                                                    6\n",
      "7                         Oil, Gas & Consumable Fuels\n",
      "8                                            10102050\n",
      "9                             Coal & Consumable Fuels\n",
      "10  Companies primarily involved in the production...\n",
      "11  [\\n  {\\n    \"risk\": \"Increased regulations on ...\n"
     ]
    },
    {
     "name": "stderr",
     "output_type": "stream",
     "text": [
      "Calculating embeddings: 100%|██████████| 1/1 [00:00<00:00,  7.87it/s]\n",
      "Upserted vectors: 100%|██████████| 1/1 [00:00<00:00, 12.81it/s]\n"
     ]
    },
    {
     "name": "stdout",
     "output_type": "stream",
     "text": [
      "                                                    7\n",
      "7                                           Chemicals\n",
      "8                                            15101010\n",
      "9                                 Commodity Chemicals\n",
      "10  Companies that primarily produce industrial ch...\n",
      "11  [\\n    {\"risk\": \"Extreme weather events damagi...\n"
     ]
    },
    {
     "name": "stderr",
     "output_type": "stream",
     "text": [
      "Calculating embeddings: 100%|██████████| 1/1 [00:00<00:00,  6.17it/s]\n",
      "Upserted vectors: 100%|██████████| 1/1 [00:00<00:00,  8.83it/s]\n"
     ]
    },
    {
     "name": "stdout",
     "output_type": "stream",
     "text": [
      "                                                    8\n",
      "7                                           Chemicals\n",
      "8                                            15101020\n",
      "9                               Diversified Chemicals\n",
      "10  Manufacturers of a diversified range of chemic...\n",
      "11  [\\n  {\\n    \"risk\": \"Production disruption due...\n"
     ]
    },
    {
     "name": "stderr",
     "output_type": "stream",
     "text": [
      "Calculating embeddings: 100%|██████████| 1/1 [00:00<00:00,  7.38it/s]\n",
      "Upserted vectors: 100%|██████████| 1/1 [00:00<00:00,  7.85it/s]\n"
     ]
    },
    {
     "name": "stdout",
     "output_type": "stream",
     "text": [
      "                                                    9\n",
      "7                                           Chemicals\n",
      "8                                            15101030\n",
      "9                Fertilizers & Agricultural Chemicals\n",
      "10  Producers of fertilizers, pesticides, potash o...\n",
      "11  [\\n  {\\n    \"risk\": \"Increased greenhouse gas ...\n"
     ]
    },
    {
     "name": "stderr",
     "output_type": "stream",
     "text": [
      "Calculating embeddings: 100%|██████████| 1/1 [00:00<00:00,  7.26it/s]\n",
      "Upserted vectors: 100%|██████████| 1/1 [00:00<00:00,  5.66it/s]\n"
     ]
    },
    {
     "name": "stdout",
     "output_type": "stream",
     "text": [
      "                                                   10\n",
      "7                                           Chemicals\n",
      "8                                            15101040\n",
      "9                                    Industrial Gases\n",
      "10                 Manufacturers of industrial gases.\n",
      "11  [\\n    {\\n        \"risk\": \"Disruption of gas p...\n"
     ]
    },
    {
     "name": "stderr",
     "output_type": "stream",
     "text": [
      "Calculating embeddings: 100%|██████████| 1/1 [00:00<00:00,  8.22it/s]\n",
      "Upserted vectors: 100%|██████████| 1/1 [00:00<00:00, 13.11it/s]\n"
     ]
    },
    {
     "name": "stdout",
     "output_type": "stream",
     "text": [
      "                                                   11\n",
      "7                                           Chemicals\n",
      "8                                            15101050\n",
      "9                                 Specialty Chemicals\n",
      "10  Companies that primarily produce high value-ad...\n",
      "11  [\\n    {\\n        \"risk\": \"Extreme weather eve...\n"
     ]
    },
    {
     "name": "stderr",
     "output_type": "stream",
     "text": [
      "Calculating embeddings: 100%|██████████| 1/1 [00:00<00:00,  8.24it/s]\n",
      "Upserted vectors: 100%|██████████| 1/1 [00:00<00:00, 13.64it/s]\n"
     ]
    },
    {
     "name": "stdout",
     "output_type": "stream",
     "text": [
      "                                                   12\n",
      "7                              Construction Materials\n",
      "8                                            15102010\n",
      "9                              Construction Materials\n",
      "10  Manufacturers of construction materials includ...\n",
      "11  [\\n    {\\n        \"risk\": \"Increase in operati...\n"
     ]
    },
    {
     "name": "stderr",
     "output_type": "stream",
     "text": [
      "Calculating embeddings: 100%|██████████| 1/1 [00:00<00:00,  7.69it/s]\n",
      "Upserted vectors: 100%|██████████| 1/1 [00:00<00:00, 10.44it/s]\n"
     ]
    },
    {
     "name": "stdout",
     "output_type": "stream",
     "text": [
      "                                                   13\n",
      "7                              Containers & Packaging\n",
      "8                                            15103010\n",
      "9                            Metal & Glass Containers\n",
      "10  Manufacturers of metal, glass or plastic conta...\n",
      "11  [\\n  {\\n    \"risk\": \"Increased operational cos...\n"
     ]
    },
    {
     "name": "stderr",
     "output_type": "stream",
     "text": [
      "Calculating embeddings: 100%|██████████| 1/1 [00:00<00:00,  7.42it/s]\n",
      "Upserted vectors: 100%|██████████| 1/1 [00:00<00:00, 13.39it/s]\n"
     ]
    },
    {
     "name": "stdout",
     "output_type": "stream",
     "text": [
      "                                                   14\n",
      "7                              Containers & Packaging\n",
      "8                                            15103020\n",
      "9                                     Paper Packaging\n",
      "10  Manufacturers of paper and cardboard container...\n",
      "11  [\\n  {\\n    \"risk\": \"Forest depletion due to r...\n"
     ]
    },
    {
     "name": "stderr",
     "output_type": "stream",
     "text": [
      "Calculating embeddings: 100%|██████████| 1/1 [00:00<00:00,  8.02it/s]\n",
      "Upserted vectors: 100%|██████████| 1/1 [00:00<00:00, 10.78it/s]\n"
     ]
    },
    {
     "name": "stdout",
     "output_type": "stream",
     "text": [
      "                                                   15\n",
      "7                                     Metals & Mining\n",
      "8                                            15104010\n",
      "9                                            Aluminum\n",
      "10  Producers of aluminum and related products, in...\n",
      "11  [\\n  {\\n    \"risk\": \"Increased operational cos...\n"
     ]
    },
    {
     "name": "stderr",
     "output_type": "stream",
     "text": [
      "Calculating embeddings: 100%|██████████| 1/1 [00:00<00:00,  8.10it/s]\n",
      "Upserted vectors: 100%|██████████| 1/1 [00:00<00:00,  9.84it/s]\n"
     ]
    },
    {
     "name": "stdout",
     "output_type": "stream",
     "text": [
      "                                                   16\n",
      "7                                     Metals & Mining\n",
      "8                                            15104020\n",
      "9                         Diversified Metals & Mining\n",
      "10  Companies engaged in the diversified productio...\n",
      "11  [\\n  {\\n    \"risk\": \"Extreme weather events da...\n"
     ]
    },
    {
     "name": "stderr",
     "output_type": "stream",
     "text": [
      "Calculating embeddings: 100%|██████████| 1/1 [00:00<00:00,  7.94it/s]\n",
      "Upserted vectors: 100%|██████████| 1/1 [00:00<00:00, 11.09it/s]\n"
     ]
    },
    {
     "name": "stdout",
     "output_type": "stream",
     "text": [
      "                                                   17\n",
      "7                                     Metals & Mining\n",
      "8                                            15104025\n",
      "9                                              Copper\n",
      "10  Companies involved primarily in copper ore min...\n",
      "11  [\\n  {\\n    \"risk\": \"Increased temperatures co...\n"
     ]
    },
    {
     "name": "stderr",
     "output_type": "stream",
     "text": [
      "Calculating embeddings: 100%|██████████| 1/1 [00:00<00:00,  7.01it/s]\n",
      "Upserted vectors: 100%|██████████| 1/1 [00:00<00:00, 12.45it/s]\n"
     ]
    },
    {
     "name": "stdout",
     "output_type": "stream",
     "text": [
      "                                                   18\n",
      "7                                     Metals & Mining\n",
      "8                                            15104030\n",
      "9                                                Gold\n",
      "10  Producers of gold and related products, includ...\n",
      "11  [\\n  {\\n    \"risk\": \"Physical risk due to extr...\n"
     ]
    },
    {
     "name": "stderr",
     "output_type": "stream",
     "text": [
      "Calculating embeddings: 100%|██████████| 1/1 [00:00<00:00,  6.95it/s]\n",
      "Upserted vectors: 100%|██████████| 1/1 [00:00<00:00,  5.37it/s]\n"
     ]
    },
    {
     "name": "stdout",
     "output_type": "stream",
     "text": [
      "                                                   19\n",
      "7                                     Metals & Mining\n",
      "8                                            15104040\n",
      "9                          Precious Metals & Minerals\n",
      "10  Companies mining precious metals and minerals ...\n",
      "11  [\\n  {\\n    \"risk\": \"Emission of greenhouse ga...\n"
     ]
    },
    {
     "name": "stderr",
     "output_type": "stream",
     "text": [
      "Calculating embeddings: 100%|██████████| 1/1 [00:00<00:00,  7.69it/s]\n",
      "Upserted vectors: 100%|██████████| 1/1 [00:00<00:00, 13.84it/s]\n"
     ]
    },
    {
     "name": "stdout",
     "output_type": "stream",
     "text": [
      "                                                   20\n",
      "7                                     Metals & Mining\n",
      "8                                            15104045\n",
      "9                                              Silver\n",
      "10  Companies primarily mining silver. Excludes co...\n",
      "11  [\\n  {\\n    \"risk\": \"Increased temperatures ca...\n"
     ]
    },
    {
     "name": "stderr",
     "output_type": "stream",
     "text": [
      "Calculating embeddings: 100%|██████████| 1/1 [00:00<00:00,  7.30it/s]\n",
      "Upserted vectors: 100%|██████████| 1/1 [00:00<00:00,  7.50it/s]\n"
     ]
    },
    {
     "name": "stdout",
     "output_type": "stream",
     "text": [
      "                                                   21\n",
      "7                                     Metals & Mining\n",
      "8                                            15104050\n",
      "9                                               Steel\n",
      "10  Producers of iron and steel and related produc...\n",
      "11  [\\n  {\\n    \"risk\": \"Increased energy costs du...\n"
     ]
    },
    {
     "name": "stderr",
     "output_type": "stream",
     "text": [
      "Calculating embeddings: 100%|██████████| 1/1 [00:00<00:00,  7.36it/s]\n",
      "Upserted vectors: 100%|██████████| 1/1 [00:00<00:00,  9.71it/s]\n"
     ]
    },
    {
     "name": "stdout",
     "output_type": "stream",
     "text": [
      "                                                   22\n",
      "7                             Paper & Forest Products\n",
      "8                                            15105010\n",
      "9                                     Forest Products\n",
      "10  Manufacturers of timber and related wood produ...\n",
      "11  [\\n  {\\n    \"risk\": \"Deforestation leading to ...\n"
     ]
    },
    {
     "name": "stderr",
     "output_type": "stream",
     "text": [
      "Calculating embeddings: 100%|██████████| 1/1 [00:00<00:00,  8.16it/s]\n",
      "Upserted vectors: 100%|██████████| 1/1 [00:00<00:00, 12.82it/s]\n"
     ]
    },
    {
     "name": "stdout",
     "output_type": "stream",
     "text": [
      "                                                   23\n",
      "7                             Paper & Forest Products\n",
      "8                                            15105020\n",
      "9                                      Paper Products\n",
      "10  Manufacturers of all grades of paper. Excludes...\n",
      "11  [\\n  { \\n    \"risk\": \"Extreme weather conditio...\n"
     ]
    },
    {
     "name": "stderr",
     "output_type": "stream",
     "text": [
      "Calculating embeddings: 100%|██████████| 1/1 [00:00<00:00,  8.66it/s]\n",
      "Upserted vectors: 100%|██████████| 1/1 [00:00<00:00, 12.15it/s]\n"
     ]
    },
    {
     "name": "stdout",
     "output_type": "stream",
     "text": [
      "                                                   24\n",
      "7                                 Aerospace & Defense\n",
      "8                                            20101010\n",
      "9                                 Aerospace & Defense\n",
      "10  Manufacturers of civil or military aerospace a...\n",
      "11  [\\n  {\\n    \"risk\": \"Material Shortages due to...\n"
     ]
    },
    {
     "name": "stderr",
     "output_type": "stream",
     "text": [
      "Calculating embeddings: 100%|██████████| 1/1 [00:00<00:00,  9.50it/s]\n",
      "Upserted vectors: 100%|██████████| 1/1 [00:00<00:00,  7.60it/s]\n"
     ]
    },
    {
     "name": "stdout",
     "output_type": "stream",
     "text": [
      "                                                   25\n",
      "7                                   Building Products\n",
      "8                                            20102010\n",
      "9                                   Building Products\n",
      "10  Manufacturers of building components and home ...\n",
      "11  [\\n  {\\n    \"risk\": \"Temperature changes affec...\n"
     ]
    },
    {
     "name": "stderr",
     "output_type": "stream",
     "text": [
      "Calculating embeddings: 100%|██████████| 1/1 [00:00<00:00,  7.98it/s]\n",
      "Upserted vectors: 100%|██████████| 1/1 [00:00<00:00, 13.45it/s]\n"
     ]
    },
    {
     "name": "stdout",
     "output_type": "stream",
     "text": [
      "                                                   26\n",
      "7                          Construction & Engineering\n",
      "8                                            20103010\n",
      "9                          Construction & Engineering\n",
      "10  Companies engaged in primarily non-residential...\n",
      "11  [\\n  {\\n    \"risk\": \"Increased cost of materia...\n"
     ]
    },
    {
     "name": "stderr",
     "output_type": "stream",
     "text": [
      "Calculating embeddings: 100%|██████████| 1/1 [00:00<00:00,  6.77it/s]\n",
      "Upserted vectors: 100%|██████████| 1/1 [00:00<00:00, 13.58it/s]\n"
     ]
    },
    {
     "name": "stdout",
     "output_type": "stream",
     "text": [
      "                                                   27\n",
      "7                                Electrical Equipment\n",
      "8                                            20104010\n",
      "9                   Electrical Components & Equipment\n",
      "10  Companies that produce electric cables and wir...\n",
      "11  [\\n  {\\n    \"risk\": \"Disruption of manufacturi...\n"
     ]
    },
    {
     "name": "stderr",
     "output_type": "stream",
     "text": [
      "Calculating embeddings: 100%|██████████| 1/1 [00:00<00:00,  7.33it/s]\n",
      "Upserted vectors: 100%|██████████| 1/1 [00:00<00:00, 13.74it/s]\n"
     ]
    },
    {
     "name": "stdout",
     "output_type": "stream",
     "text": [
      "                                                   28\n",
      "7                                Electrical Equipment\n",
      "8                                            20104020\n",
      "9                          Heavy Electrical Equipment\n",
      "10  Manufacturers of power-generating equipment an...\n",
      "11  [\\n  {\\n    \"risk\": \"Regulations pertaining to...\n"
     ]
    },
    {
     "name": "stderr",
     "output_type": "stream",
     "text": [
      "Calculating embeddings: 100%|██████████| 1/1 [00:00<00:00,  7.73it/s]\n",
      "Upserted vectors: 100%|██████████| 1/1 [00:00<00:00, 11.03it/s]\n"
     ]
    },
    {
     "name": "stdout",
     "output_type": "stream",
     "text": [
      "                                                   29\n",
      "7                            Industrial Conglomerates\n",
      "8                                            20105010\n",
      "9                            Industrial Conglomerates\n",
      "10  Diversified industrial companies with business...\n",
      "11  [\\n  {\\n    \"risk\": \"Risk of operational disru...\n"
     ]
    },
    {
     "name": "stderr",
     "output_type": "stream",
     "text": [
      "Calculating embeddings: 100%|██████████| 1/1 [00:00<00:00,  8.35it/s]\n",
      "Upserted vectors: 100%|██████████| 1/1 [00:00<00:00, 13.36it/s]\n"
     ]
    },
    {
     "name": "stdout",
     "output_type": "stream",
     "text": [
      "                                                   30\n",
      "7                                           Machinery\n",
      "8                                            20106010\n",
      "9               Construction Machinery & Heavy Trucks\n",
      "10  Manufacturers of heavy duty trucks, rolling ma...\n",
      "11  [\\n  {\\n    \"risk\": \"Increased extreme weather...\n"
     ]
    },
    {
     "name": "stderr",
     "output_type": "stream",
     "text": [
      "Calculating embeddings: 100%|██████████| 1/1 [00:00<00:00,  8.19it/s]\n",
      "Upserted vectors: 100%|██████████| 1/1 [00:00<00:00, 13.63it/s]\n"
     ]
    },
    {
     "name": "stdout",
     "output_type": "stream",
     "text": [
      "                                                   31\n",
      "7                                           Machinery\n",
      "8                                            20106015\n",
      "9                       Agricultural & Farm Machinery\n",
      "10  Companies manufacturing agricultural machinery...\n",
      "11  [\\n    {\\n        \"risk\": \"Supply chain interr...\n"
     ]
    },
    {
     "name": "stderr",
     "output_type": "stream",
     "text": [
      "Calculating embeddings: 100%|██████████| 1/1 [00:00<00:00,  8.94it/s]\n",
      "Upserted vectors: 100%|██████████| 1/1 [00:00<00:00, 13.82it/s]\n"
     ]
    },
    {
     "name": "stdout",
     "output_type": "stream",
     "text": [
      "                                                   32\n",
      "7                                           Machinery\n",
      "8                                            20106020\n",
      "9                                Industrial Machinery\n",
      "10  Manufacturers of industrial machinery and indu...\n",
      "11  [\\n  {\\n    \"risk\": \"Increased operating costs...\n"
     ]
    },
    {
     "name": "stderr",
     "output_type": "stream",
     "text": [
      "Calculating embeddings: 100%|██████████| 1/1 [00:00<00:00,  7.94it/s]\n",
      "Upserted vectors: 100%|██████████| 1/1 [00:00<00:00, 12.95it/s]\n"
     ]
    },
    {
     "name": "stdout",
     "output_type": "stream",
     "text": [
      "                                                   33\n",
      "7                    Trading Companies & Distributors\n",
      "8                                            20107010\n",
      "9                    Trading Companies & Distributors\n",
      "10  Trading companies and other distributors of in...\n",
      "11  [\\n  {\\n    \"risk\":\"Increased operational cost...\n"
     ]
    },
    {
     "name": "stderr",
     "output_type": "stream",
     "text": [
      "Calculating embeddings: 100%|██████████| 1/1 [00:00<00:00,  8.04it/s]\n",
      "Upserted vectors: 100%|██████████| 1/1 [00:00<00:00, 13.23it/s]\n"
     ]
    },
    {
     "name": "stdout",
     "output_type": "stream",
     "text": [
      "                                                   34\n",
      "7                      Commercial Services & Supplies\n",
      "8                                            20201010\n",
      "9                                 Commercial Printing\n",
      "10  Companies providing commercial printing servic...\n",
      "11  [\\n  {\\n    \"risk\": \"Increased operating costs...\n"
     ]
    },
    {
     "name": "stderr",
     "output_type": "stream",
     "text": [
      "Calculating embeddings: 100%|██████████| 1/1 [00:00<00:00,  8.78it/s]\n",
      "Upserted vectors: 100%|██████████| 1/1 [00:00<00:00, 14.35it/s]\n"
     ]
    },
    {
     "name": "stdout",
     "output_type": "stream",
     "text": [
      "                                                   35\n",
      "7                      Commercial Services & Supplies\n",
      "8                                            20201050\n",
      "9                 Environmental & Facilities Services\n",
      "10  Companies providing environmental and faciliti...\n",
      "11  [\\n  {\\n    \"risk\": \"Increased regulation and ...\n"
     ]
    },
    {
     "name": "stderr",
     "output_type": "stream",
     "text": [
      "Calculating embeddings: 100%|██████████| 1/1 [00:00<00:00,  8.55it/s]\n",
      "Upserted vectors: 100%|██████████| 1/1 [00:00<00:00, 13.52it/s]\n"
     ]
    },
    {
     "name": "stdout",
     "output_type": "stream",
     "text": [
      "                                                   36\n",
      "7                      Commercial Services & Supplies\n",
      "8                                            20201060\n",
      "9                          Office Services & Supplies\n",
      "10  Providers of office services and manufacturers...\n",
      "11  [\\n  {\\n    \"risk\": \"Extreme weather events di...\n"
     ]
    },
    {
     "name": "stderr",
     "output_type": "stream",
     "text": [
      "Calculating embeddings: 100%|██████████| 1/1 [00:00<00:00,  8.23it/s]\n",
      "Upserted vectors: 100%|██████████| 1/1 [00:00<00:00, 13.30it/s]\n"
     ]
    },
    {
     "name": "stdout",
     "output_type": "stream",
     "text": [
      "                                                   37\n",
      "7                      Commercial Services & Supplies\n",
      "8                                            20201070\n",
      "9                        Diversified Support Services\n",
      "10  Companies primarily providing labor oriented s...\n",
      "11  [\\n  {\\n    \"risk\": \"Extreme weather causing d...\n"
     ]
    },
    {
     "name": "stderr",
     "output_type": "stream",
     "text": [
      "Calculating embeddings: 100%|██████████| 1/1 [00:00<00:00,  7.67it/s]\n",
      "Upserted vectors: 100%|██████████| 1/1 [00:00<00:00, 11.48it/s]\n"
     ]
    },
    {
     "name": "stdout",
     "output_type": "stream",
     "text": [
      "                                                   38\n",
      "7                      Commercial Services & Supplies\n",
      "8                                            20201080\n",
      "9                           Security & Alarm Services\n",
      "10  Companies providing security and protection se...\n",
      "11  [\\n  {\\n    \"risk\": \"Extreme weather condition...\n"
     ]
    },
    {
     "name": "stderr",
     "output_type": "stream",
     "text": [
      "Calculating embeddings: 100%|██████████| 1/1 [00:00<00:00,  8.03it/s]\n",
      "Upserted vectors: 100%|██████████| 1/1 [00:00<00:00,  5.05it/s]\n"
     ]
    },
    {
     "name": "stdout",
     "output_type": "stream",
     "text": [
      "                                                   39\n",
      "7                               Professional Services\n",
      "8                                            20202010\n",
      "9                Human Resource & Employment Services\n",
      "10  Companies providing business support services ...\n",
      "11  [\\n    {\\n        \"risk\": \"Extreme weather eve...\n"
     ]
    },
    {
     "name": "stderr",
     "output_type": "stream",
     "text": [
      "Calculating embeddings: 100%|██████████| 1/1 [00:00<00:00,  8.25it/s]\n",
      "Upserted vectors: 100%|██████████| 1/1 [00:00<00:00, 13.42it/s]\n"
     ]
    },
    {
     "name": "stdout",
     "output_type": "stream",
     "text": [
      "                                                   40\n",
      "7                               Professional Services\n",
      "8                                            20202020\n",
      "9                      Research & Consulting Services\n",
      "10  Companies primarily providing research and con...\n",
      "11  [\\n  {\\n    \"risk\": \"Impact of climate regulat...\n"
     ]
    },
    {
     "name": "stderr",
     "output_type": "stream",
     "text": [
      "Calculating embeddings: 100%|██████████| 1/1 [00:00<00:00,  8.36it/s]\n",
      "Upserted vectors: 100%|██████████| 1/1 [00:00<00:00, 13.06it/s]\n"
     ]
    },
    {
     "name": "stdout",
     "output_type": "stream",
     "text": [
      "                                                   41\n",
      "7                             Air Freight & Logistics\n",
      "8                                            20301010\n",
      "9                             Air Freight & Logistics\n",
      "10  Companies providing air freight transportation...\n",
      "11  [\\n{\\n\"risk\": \"Increased operational costs due...\n"
     ]
    },
    {
     "name": "stderr",
     "output_type": "stream",
     "text": [
      "Calculating embeddings: 100%|██████████| 1/1 [00:00<00:00,  7.39it/s]\n",
      "Upserted vectors: 100%|██████████| 1/1 [00:00<00:00,  9.32it/s]\n"
     ]
    },
    {
     "name": "stdout",
     "output_type": "stream",
     "text": [
      "                                                   42\n",
      "7                                            Airlines\n",
      "8                                            20302010\n",
      "9                                            Airlines\n",
      "10  Companies providing primarily passenger air tr...\n",
      "11  [\\n  {\\n    \"risk\": \"Extreme weather condition...\n"
     ]
    },
    {
     "name": "stderr",
     "output_type": "stream",
     "text": [
      "Calculating embeddings: 100%|██████████| 1/1 [00:00<00:00,  7.41it/s]\n",
      "Upserted vectors: 100%|██████████| 1/1 [00:00<00:00, 12.77it/s]\n"
     ]
    },
    {
     "name": "stdout",
     "output_type": "stream",
     "text": [
      "                                                   43\n",
      "7                                              Marine\n",
      "8                                            20303010\n",
      "9                                              Marine\n",
      "10  Companies providing goods or passenger maritim...\n",
      "11  [\\n    {\\n     \"risk\": \"Rising Sea Levels\",\\n ...\n"
     ]
    },
    {
     "name": "stderr",
     "output_type": "stream",
     "text": [
      "Calculating embeddings: 100%|██████████| 1/1 [00:00<00:00,  8.09it/s]\n",
      "Upserted vectors: 100%|██████████| 1/1 [00:00<00:00, 10.58it/s]\n"
     ]
    },
    {
     "name": "stdout",
     "output_type": "stream",
     "text": [
      "                                                   44\n",
      "7                                         Road & Rail\n",
      "8                                            20304010\n",
      "9                                           Railroads\n",
      "10  Companies providing primarily goods and passen...\n",
      "11  [\\n  {\\n    \"risk\": \"Extreme weather condition...\n"
     ]
    },
    {
     "name": "stderr",
     "output_type": "stream",
     "text": [
      "Calculating embeddings: 100%|██████████| 1/1 [00:00<00:00,  7.48it/s]\n",
      "Upserted vectors: 100%|██████████| 1/1 [00:00<00:00,  9.63it/s]\n"
     ]
    },
    {
     "name": "stdout",
     "output_type": "stream",
     "text": [
      "                                                   45\n",
      "7                                         Road & Rail\n",
      "8                                            20304020\n",
      "9                                            Trucking\n",
      "10  Companies providing primarily goods and passen...\n",
      "11  [\\n    {\\n        \"risk\": \"Extreme weather con...\n"
     ]
    },
    {
     "name": "stderr",
     "output_type": "stream",
     "text": [
      "Calculating embeddings: 100%|██████████| 1/1 [00:00<00:00,  8.94it/s]\n",
      "Upserted vectors: 100%|██████████| 1/1 [00:00<00:00,  8.15it/s]\n"
     ]
    },
    {
     "name": "stdout",
     "output_type": "stream",
     "text": [
      "                                                   46\n",
      "7                       Transportation Infrastructure\n",
      "8                                            20305010\n",
      "9                                    Airport Services\n",
      "10  Operators of airports and companies providing ...\n",
      "11  [\\n    {\\n        \"risk\": \"Rising temperatures...\n"
     ]
    },
    {
     "name": "stderr",
     "output_type": "stream",
     "text": [
      "Calculating embeddings: 100%|██████████| 1/1 [00:00<00:00,  7.81it/s]\n",
      "Upserted vectors: 100%|██████████| 1/1 [00:00<00:00,  4.05it/s]\n"
     ]
    },
    {
     "name": "stdout",
     "output_type": "stream",
     "text": [
      "                                                   47\n",
      "7                       Transportation Infrastructure\n",
      "8                                            20305020\n",
      "9                               Highways & Railtracks\n",
      "10  Owners and operators of roads, tunnels and rai...\n",
      "11  [\\n  {\\n    \"risk\": \"Extreme weather condition...\n"
     ]
    },
    {
     "name": "stderr",
     "output_type": "stream",
     "text": [
      "Calculating embeddings: 100%|██████████| 1/1 [00:00<00:00,  7.76it/s]\n",
      "Upserted vectors: 100%|██████████| 1/1 [00:00<00:00,  3.96it/s]\n"
     ]
    },
    {
     "name": "stdout",
     "output_type": "stream",
     "text": [
      "                                                   48\n",
      "7                       Transportation Infrastructure\n",
      "8                                            20305030\n",
      "9                             Marine Ports & Services\n",
      "10  Owners and operators of marine ports and relat...\n",
      "11  [\\n  {\\n    \"risk\": \"Rising sea levels and sto...\n"
     ]
    },
    {
     "name": "stderr",
     "output_type": "stream",
     "text": [
      "Calculating embeddings: 100%|██████████| 1/1 [00:00<00:00,  7.64it/s]\n",
      "Upserted vectors: 100%|██████████| 1/1 [00:00<00:00,  5.71it/s]\n"
     ]
    },
    {
     "name": "stdout",
     "output_type": "stream",
     "text": [
      "                                                   49\n",
      "7                                     Auto Components\n",
      "8                                            25101010\n",
      "9                              Auto Parts & Equipment\n",
      "10  Manufacturers of parts and accessories for aut...\n",
      "11  [\\n    {\\n        \"risk\": \"Increasing temperat...\n"
     ]
    },
    {
     "name": "stderr",
     "output_type": "stream",
     "text": [
      "Calculating embeddings: 100%|██████████| 1/1 [00:00<00:00,  7.57it/s]\n",
      "Upserted vectors: 100%|██████████| 1/1 [00:00<00:00,  6.92it/s]\n"
     ]
    },
    {
     "name": "stdout",
     "output_type": "stream",
     "text": [
      "                                                   50\n",
      "7                                     Auto Components\n",
      "8                                            25101020\n",
      "9                                      Tires & Rubber\n",
      "10                 Manufacturers of tires and rubber.\n",
      "11  [\\n  {\\n    \"risk\": \"Extreme weather events di...\n"
     ]
    },
    {
     "name": "stderr",
     "output_type": "stream",
     "text": [
      "Calculating embeddings: 100%|██████████| 1/1 [00:00<00:00,  7.50it/s]\n",
      "Upserted vectors: 100%|██████████| 1/1 [00:00<00:00,  7.05it/s]\n"
     ]
    },
    {
     "name": "stdout",
     "output_type": "stream",
     "text": [
      "                                                   51\n",
      "7                                         Automobiles\n",
      "8                                            25102010\n",
      "9                            Automobile Manufacturers\n",
      "10  Companies that produce mainly passenger automo...\n",
      "11  [\\n    {\\n        \"risk\": \"Regulatory risks du...\n"
     ]
    },
    {
     "name": "stderr",
     "output_type": "stream",
     "text": [
      "Calculating embeddings: 100%|██████████| 1/1 [00:00<00:00,  9.81it/s]\n",
      "Upserted vectors: 100%|██████████| 1/1 [00:00<00:00, 11.62it/s]\n"
     ]
    },
    {
     "name": "stdout",
     "output_type": "stream",
     "text": [
      "                                                   52\n",
      "7                                         Automobiles\n",
      "8                                            25102020\n",
      "9                            Motorcycle Manufacturers\n",
      "10  Companies that produce motorcycles, scooters o...\n",
      "11  [\\n    {\\n        \"risk\": \"Increased productio...\n"
     ]
    },
    {
     "name": "stderr",
     "output_type": "stream",
     "text": [
      "Calculating embeddings: 100%|██████████| 1/1 [00:00<00:00,  8.35it/s]\n",
      "Upserted vectors: 100%|██████████| 1/1 [00:00<00:00, 11.36it/s]\n"
     ]
    },
    {
     "name": "stdout",
     "output_type": "stream",
     "text": [
      "                                                   53\n",
      "7                                  Household Durables\n",
      "8                                            25201010\n",
      "9                                Consumer Electronics\n",
      "10  Manufacturers of consumer electronics products...\n",
      "11  [\\n  {\\n    \"risk\": \"Increase in energy costs ...\n"
     ]
    },
    {
     "name": "stderr",
     "output_type": "stream",
     "text": [
      "Calculating embeddings: 100%|██████████| 1/1 [00:00<00:00,  6.79it/s]\n",
      "Upserted vectors: 100%|██████████| 1/1 [00:00<00:00,  2.87it/s]\n"
     ]
    },
    {
     "name": "stdout",
     "output_type": "stream",
     "text": [
      "                                                   54\n",
      "7                                  Household Durables\n",
      "8                                            25201020\n",
      "9                                    Home Furnishings\n",
      "10  Manufacturers of soft home furnishings or furn...\n",
      "11  [\\n  {\\n    \"risk\": \"Increase in production co...\n"
     ]
    },
    {
     "name": "stderr",
     "output_type": "stream",
     "text": [
      "Calculating embeddings: 100%|██████████| 1/1 [00:00<00:00,  8.89it/s]\n",
      "Upserted vectors: 100%|██████████| 1/1 [00:00<00:00,  3.91it/s]\n"
     ]
    },
    {
     "name": "stdout",
     "output_type": "stream",
     "text": [
      "                                                   55\n",
      "7                                  Household Durables\n",
      "8                                            25201030\n",
      "9                                        Homebuilding\n",
      "10  Residential construction companies. Includes m...\n",
      "11  [\\n  {\\n    \"risk\": \"Increase in temperature l...\n"
     ]
    },
    {
     "name": "stderr",
     "output_type": "stream",
     "text": [
      "Calculating embeddings: 100%|██████████| 1/1 [00:00<00:00,  7.90it/s]\n",
      "Upserted vectors: 100%|██████████| 1/1 [00:00<00:00,  5.81it/s]\n"
     ]
    },
    {
     "name": "stdout",
     "output_type": "stream",
     "text": [
      "                                                   56\n",
      "7                                  Household Durables\n",
      "8                                            25201040\n",
      "9                                Household Appliances\n",
      "10  Manufacturers of electric household appliances...\n",
      "11  [\\n  {\\n    \"risk\": \"Increase in power failure...\n"
     ]
    },
    {
     "name": "stderr",
     "output_type": "stream",
     "text": [
      "Calculating embeddings: 100%|██████████| 1/1 [00:00<00:00,  6.28it/s]\n",
      "Upserted vectors: 100%|██████████| 1/1 [00:00<00:00, 10.12it/s]\n"
     ]
    },
    {
     "name": "stdout",
     "output_type": "stream",
     "text": [
      "                                                   57\n",
      "7                                  Household Durables\n",
      "8                                            25201050\n",
      "9                            Housewares & Specialties\n",
      "10  Manufacturers of durable household products, i...\n",
      "11  [\\n  {\\n    \"risk\": \"Increased production cost...\n"
     ]
    },
    {
     "name": "stderr",
     "output_type": "stream",
     "text": [
      "Calculating embeddings: 100%|██████████| 1/1 [00:00<00:00,  7.70it/s]\n",
      "Upserted vectors: 100%|██████████| 1/1 [00:00<00:00, 12.38it/s]\n"
     ]
    },
    {
     "name": "stdout",
     "output_type": "stream",
     "text": [
      "                                                   58\n",
      "7                                    Leisure Products\n",
      "8                                            25202010\n",
      "9                                    Leisure Products\n",
      "10  Manufacturers of leisure products and equipmen...\n",
      "11  [\\n  {\\n    \"risk\": \"Raw material scarcity due...\n"
     ]
    },
    {
     "name": "stderr",
     "output_type": "stream",
     "text": [
      "Calculating embeddings: 100%|██████████| 1/1 [00:00<00:00,  8.51it/s]\n",
      "Upserted vectors: 100%|██████████| 1/1 [00:00<00:00,  3.83it/s]\n"
     ]
    },
    {
     "name": "stdout",
     "output_type": "stream",
     "text": [
      "                                                   59\n",
      "7                    Textiles, Apparel & Luxury Goods\n",
      "8                                            25203010\n",
      "9                 Apparel, Accessories & Luxury Goods\n",
      "10  Manufacturers of apparel, accessories & luxury...\n",
      "11  [\\n    {\\n        \"risk\": \"Increases in temper...\n"
     ]
    },
    {
     "name": "stderr",
     "output_type": "stream",
     "text": [
      "Calculating embeddings: 100%|██████████| 1/1 [00:00<00:00,  4.60it/s]\n",
      "Upserted vectors: 100%|██████████| 1/1 [00:00<00:00, 11.49it/s]\n"
     ]
    },
    {
     "name": "stdout",
     "output_type": "stream",
     "text": [
      "                                                   60\n",
      "7                    Textiles, Apparel & Luxury Goods\n",
      "8                                            25203020\n",
      "9                                            Footwear\n",
      "10  Manufacturers of footwear. Includes sport and ...\n",
      "11  [\\n    {\\n        \"risk\": \"Increased cost of r...\n"
     ]
    },
    {
     "name": "stderr",
     "output_type": "stream",
     "text": [
      "Calculating embeddings: 100%|██████████| 1/1 [00:00<00:00,  7.89it/s]\n",
      "Upserted vectors: 100%|██████████| 1/1 [00:00<00:00,  5.66it/s]\n"
     ]
    },
    {
     "name": "stdout",
     "output_type": "stream",
     "text": [
      "                                                   61\n",
      "7                    Textiles, Apparel & Luxury Goods\n",
      "8                                            25203030\n",
      "9                                            Textiles\n",
      "10  Manufacturers of textile and related products ...\n",
      "11  [\\n    {\\n        \"risk\": \"Increased operating...\n"
     ]
    },
    {
     "name": "stderr",
     "output_type": "stream",
     "text": [
      "Calculating embeddings: 100%|██████████| 1/1 [00:00<00:00,  8.09it/s]\n",
      "Upserted vectors: 100%|██████████| 1/1 [00:00<00:00, 13.91it/s]\n"
     ]
    },
    {
     "name": "stdout",
     "output_type": "stream",
     "text": [
      "                                                   62\n",
      "7                       Hotels, Restaurants & Leisure\n",
      "8                                            25301010\n",
      "9                                    Casinos & Gaming\n",
      "10  Owners and operators of casinos and gaming fac...\n",
      "11  [\\n    {\\n        \"risk\":\"Increasing temperatu...\n"
     ]
    },
    {
     "name": "stderr",
     "output_type": "stream",
     "text": [
      "Calculating embeddings: 100%|██████████| 1/1 [00:00<00:00,  8.09it/s]\n",
      "Upserted vectors: 100%|██████████| 1/1 [00:00<00:00,  9.13it/s]\n"
     ]
    },
    {
     "name": "stdout",
     "output_type": "stream",
     "text": [
      "                                                   63\n",
      "7                       Hotels, Restaurants & Leisure\n",
      "8                                            25301020\n",
      "9                      Hotels, Resorts & Cruise Lines\n",
      "10  Owners and operators of hotels, resorts and cr...\n",
      "11  [\\n  {\\n    \"risk\": \"Extreme weather condition...\n"
     ]
    },
    {
     "name": "stderr",
     "output_type": "stream",
     "text": [
      "Calculating embeddings: 100%|██████████| 1/1 [00:00<00:00,  8.20it/s]\n",
      "Upserted vectors: 100%|██████████| 1/1 [00:00<00:00, 10.98it/s]\n"
     ]
    },
    {
     "name": "stdout",
     "output_type": "stream",
     "text": [
      "                                                   64\n",
      "7                       Hotels, Restaurants & Leisure\n",
      "8                                            25301030\n",
      "9                                  Leisure Facilities\n",
      "10  Owners and operators of leisure facilities, in...\n",
      "11  [\\n  {\\n    \"risk\": \"Increased temperatures ca...\n"
     ]
    },
    {
     "name": "stderr",
     "output_type": "stream",
     "text": [
      "Calculating embeddings: 100%|██████████| 1/1 [00:00<00:00,  8.76it/s]\n",
      "Upserted vectors: 100%|██████████| 1/1 [00:00<00:00,  2.74it/s]\n"
     ]
    },
    {
     "name": "stdout",
     "output_type": "stream",
     "text": [
      "                                                   65\n",
      "7                       Hotels, Restaurants & Leisure\n",
      "8                                            25301040\n",
      "9                                         Restaurants\n",
      "10  Owners and operators of restaurants, bars, pub...\n",
      "11  [\\n  {\\n    \"risk\": \"Impact of extreme weather...\n"
     ]
    },
    {
     "name": "stderr",
     "output_type": "stream",
     "text": [
      "Calculating embeddings: 100%|██████████| 1/1 [00:00<00:00,  8.34it/s]\n",
      "Upserted vectors: 100%|██████████| 1/1 [00:00<00:00, 12.57it/s]\n"
     ]
    },
    {
     "name": "stdout",
     "output_type": "stream",
     "text": [
      "                                                   66\n",
      "7                       Diversified Consumer Services\n",
      "8                                            25302010\n",
      "9                                  Education Services\n",
      "10  Companies providing educational services, eith...\n",
      "11  [\\n  {\\n    \"risk\": \"Extreme weather events di...\n"
     ]
    },
    {
     "name": "stderr",
     "output_type": "stream",
     "text": [
      "Calculating embeddings: 100%|██████████| 1/1 [00:00<00:00,  6.56it/s]\n",
      "Upserted vectors: 100%|██████████| 1/1 [00:00<00:00,  7.20it/s]\n"
     ]
    },
    {
     "name": "stdout",
     "output_type": "stream",
     "text": [
      "                                                   67\n",
      "7                       Diversified Consumer Services\n",
      "8                                            25302020\n",
      "9                       Specialized Consumer Services\n",
      "10  Companies providing consumer services not clas...\n",
      "11  [\\n  {\\n    \"risk\": \"Extreme weather condition...\n"
     ]
    },
    {
     "name": "stderr",
     "output_type": "stream",
     "text": [
      "Calculating embeddings: 100%|██████████| 1/1 [00:00<00:00,  8.01it/s]\n",
      "Upserted vectors: 100%|██████████| 1/1 [00:00<00:00,  4.78it/s]\n"
     ]
    },
    {
     "name": "stdout",
     "output_type": "stream",
     "text": [
      "                                                   68\n",
      "7                                        Distributors\n",
      "8                                            25501010\n",
      "9                                        Distributors\n",
      "10  Distributors and wholesalers of general mercha...\n",
      "11  [\\n{\\n\"risk\": \"Extreme weather events disrupti...\n"
     ]
    },
    {
     "name": "stderr",
     "output_type": "stream",
     "text": [
      "Calculating embeddings: 100%|██████████| 1/1 [00:00<00:00,  7.76it/s]\n",
      "Upserted vectors: 100%|██████████| 1/1 [00:00<00:00, 14.15it/s]\n"
     ]
    },
    {
     "name": "stdout",
     "output_type": "stream",
     "text": [
      "                                                   69\n",
      "7                  Internet & Direct Marketing Retail\n",
      "8                                            25502020\n",
      "9                  Internet & Direct Marketing Retail\n",
      "10  Companies providing retail services primarily ...\n",
      "11  [\\n  {\\n    \"risk\": \"Disruptions due to extrem...\n"
     ]
    },
    {
     "name": "stderr",
     "output_type": "stream",
     "text": [
      "Calculating embeddings: 100%|██████████| 1/1 [00:00<00:00,  7.90it/s]\n",
      "Upserted vectors: 100%|██████████| 1/1 [00:00<00:00,  5.89it/s]\n"
     ]
    },
    {
     "name": "stdout",
     "output_type": "stream",
     "text": [
      "                                                   70\n",
      "7                                    Multiline Retail\n",
      "8                                            25503010\n",
      "9                                   Department Stores\n",
      "10         Owners and operators of department stores.\n",
      "11  [\\n  {\\n    \"risk\": \"Extreme weather events di...\n"
     ]
    },
    {
     "name": "stderr",
     "output_type": "stream",
     "text": [
      "Calculating embeddings: 100%|██████████| 1/1 [00:00<00:00,  8.06it/s]\n",
      "Upserted vectors: 100%|██████████| 1/1 [00:00<00:00,  6.61it/s]\n"
     ]
    },
    {
     "name": "stdout",
     "output_type": "stream",
     "text": [
      "                                                   71\n",
      "7                                    Multiline Retail\n",
      "8                                            25503020\n",
      "9                          General Merchandise Stores\n",
      "10  Owners and operators of stores offering divers...\n",
      "11  [\\n  {\\n    \"risk\": \"Increased operational cos...\n"
     ]
    },
    {
     "name": "stderr",
     "output_type": "stream",
     "text": [
      "Calculating embeddings: 100%|██████████| 1/1 [00:00<00:00,  7.94it/s]\n",
      "Upserted vectors: 100%|██████████| 1/1 [00:00<00:00,  8.97it/s]\n"
     ]
    },
    {
     "name": "stdout",
     "output_type": "stream",
     "text": [
      "                                                   72\n",
      "7                                    Specialty Retail\n",
      "8                                            25504010\n",
      "9                                      Apparel Retail\n",
      "10  Retailers specialized mainly in apparel and ac...\n",
      "11  [\\n  {\\n    \"risk\": \"Disruptions in supply cha...\n"
     ]
    },
    {
     "name": "stderr",
     "output_type": "stream",
     "text": [
      "Calculating embeddings: 100%|██████████| 1/1 [00:00<00:00,  7.87it/s]\n",
      "Upserted vectors: 100%|██████████| 1/1 [00:00<00:00, 11.74it/s]\n"
     ]
    },
    {
     "name": "stdout",
     "output_type": "stream",
     "text": [
      "                                                   73\n",
      "7                                    Specialty Retail\n",
      "8                                            25504020\n",
      "9                       Computer & Electronics Retail\n",
      "10  Owners and operators of consumer electronics, ...\n",
      "11  [\\n  {\\n    \"risk\": \"Severe weather conditions...\n"
     ]
    },
    {
     "name": "stderr",
     "output_type": "stream",
     "text": [
      "Calculating embeddings: 100%|██████████| 1/1 [00:00<00:00,  8.11it/s]\n",
      "Upserted vectors: 100%|██████████| 1/1 [00:00<00:00, 12.85it/s]\n"
     ]
    },
    {
     "name": "stdout",
     "output_type": "stream",
     "text": [
      "                                                   74\n",
      "7                                    Specialty Retail\n",
      "8                                            25504030\n",
      "9                             Home Improvement Retail\n",
      "10  Owners and operators of home and garden improv...\n",
      "11  [\\n  {\\n    \"risk\": \"Extreme weather condition...\n"
     ]
    },
    {
     "name": "stderr",
     "output_type": "stream",
     "text": [
      "Calculating embeddings: 100%|██████████| 1/1 [00:00<00:00,  7.48it/s]\n",
      "Upserted vectors: 100%|██████████| 1/1 [00:00<00:00,  7.13it/s]\n"
     ]
    },
    {
     "name": "stdout",
     "output_type": "stream",
     "text": [
      "                                                   75\n",
      "7                                    Specialty Retail\n",
      "8                                            25504040\n",
      "9                                    Specialty Stores\n",
      "10  Owners and operators of specialty retail store...\n",
      "11  [\\n  {\\n    \"risk\": \"Extreme weather events di...\n"
     ]
    },
    {
     "name": "stderr",
     "output_type": "stream",
     "text": [
      "Calculating embeddings: 100%|██████████| 1/1 [00:00<00:00,  8.68it/s]\n",
      "Upserted vectors: 100%|██████████| 1/1 [00:00<00:00, 13.58it/s]\n"
     ]
    },
    {
     "name": "stdout",
     "output_type": "stream",
     "text": [
      "                                                   76\n",
      "7                                    Specialty Retail\n",
      "8                                            25504050\n",
      "9                                   Automotive Retail\n",
      "10  Owners and operators of stores specializing in...\n",
      "11  [\\n{\\n\"risk\":\"Rising fuel prices due to climat...\n"
     ]
    },
    {
     "name": "stderr",
     "output_type": "stream",
     "text": [
      "Calculating embeddings: 100%|██████████| 1/1 [00:00<00:00,  7.45it/s]\n",
      "Upserted vectors: 100%|██████████| 1/1 [00:00<00:00, 11.33it/s]\n"
     ]
    },
    {
     "name": "stdout",
     "output_type": "stream",
     "text": [
      "                                                   77\n",
      "7                                    Specialty Retail\n",
      "8                                            25504060\n",
      "9                               Homefurnishing Retail\n",
      "10  Owners and operators of furniture and home fur...\n",
      "11  [\\n  {\\n    \"risk\": \"Extreme weather events di...\n"
     ]
    },
    {
     "name": "stderr",
     "output_type": "stream",
     "text": [
      "Calculating embeddings: 100%|██████████| 1/1 [00:00<00:00,  7.00it/s]\n",
      "Upserted vectors: 100%|██████████| 1/1 [00:00<00:00,  8.58it/s]\n"
     ]
    },
    {
     "name": "stdout",
     "output_type": "stream",
     "text": [
      "                                                   78\n",
      "7                            Food & Staples Retailing\n",
      "8                                            30101010\n",
      "9                                         Drug Retail\n",
      "10  Owners and operators of primarily drug retail ...\n",
      "11  [\\n    {\\n        \"risk\": \"Increase in tempera...\n"
     ]
    },
    {
     "name": "stderr",
     "output_type": "stream",
     "text": [
      "Calculating embeddings: 100%|██████████| 1/1 [00:00<00:00,  8.41it/s]\n",
      "Upserted vectors: 100%|██████████| 1/1 [00:00<00:00,  9.67it/s]\n"
     ]
    },
    {
     "name": "stdout",
     "output_type": "stream",
     "text": [
      "                                                   79\n",
      "7                            Food & Staples Retailing\n",
      "8                                            30101020\n",
      "9                                   Food Distributors\n",
      "10  Distributors of food products to other compani...\n",
      "11  [\\n    {\\n        \"risk\": \"Increased transport...\n"
     ]
    },
    {
     "name": "stderr",
     "output_type": "stream",
     "text": [
      "Calculating embeddings: 100%|██████████| 1/1 [00:00<00:00,  7.37it/s]\n",
      "Upserted vectors: 100%|██████████| 1/1 [00:00<00:00, 12.80it/s]\n"
     ]
    },
    {
     "name": "stdout",
     "output_type": "stream",
     "text": [
      "                                                   80\n",
      "7                            Food & Staples Retailing\n",
      "8                                            30101030\n",
      "9                                         Food Retail\n",
      "10  Owners and operators of primarily food retail ...\n",
      "11  [\\n  {\\n    \"risk\": \"Extreme weather events di...\n"
     ]
    },
    {
     "name": "stderr",
     "output_type": "stream",
     "text": [
      "Calculating embeddings: 100%|██████████| 1/1 [00:00<00:00,  7.84it/s]\n",
      "Upserted vectors: 100%|██████████| 1/1 [00:00<00:00, 12.67it/s]\n"
     ]
    },
    {
     "name": "stdout",
     "output_type": "stream",
     "text": [
      "                                                   81\n",
      "7                            Food & Staples Retailing\n",
      "8                                            30101040\n",
      "9                        Hypermarkets & Super Centers\n",
      "10  Owners and operators of hypermarkets and super...\n",
      "11  [\\n{\\n\"risk\": \"Severe weather conditions affec...\n"
     ]
    },
    {
     "name": "stderr",
     "output_type": "stream",
     "text": [
      "Calculating embeddings: 100%|██████████| 1/1 [00:00<00:00,  7.54it/s]\n",
      "Upserted vectors: 100%|██████████| 1/1 [00:00<00:00, 13.22it/s]\n"
     ]
    },
    {
     "name": "stdout",
     "output_type": "stream",
     "text": [
      "                                                   82\n",
      "7                                           Beverages\n",
      "8                                            30201010\n",
      "9                                             Brewers\n",
      "10  Producers of beer and malt liquors. Includes b...\n",
      "11  [\\n  {\\n    \"risk\": \"Water scarcity and water ...\n"
     ]
    },
    {
     "name": "stderr",
     "output_type": "stream",
     "text": [
      "Calculating embeddings: 100%|██████████| 1/1 [00:00<00:00,  7.28it/s]\n",
      "Upserted vectors: 100%|██████████| 1/1 [00:00<00:00,  9.45it/s]\n"
     ]
    },
    {
     "name": "stdout",
     "output_type": "stream",
     "text": [
      "                                                   83\n",
      "7                                           Beverages\n",
      "8                                            30201020\n",
      "9                               Distillers & Vintners\n",
      "10  Distillers, vintners and producers of alcoholi...\n",
      "11  [\\n    { \"risk\":\"Extreme weather events damagi...\n"
     ]
    },
    {
     "name": "stderr",
     "output_type": "stream",
     "text": [
      "Calculating embeddings: 100%|██████████| 1/1 [00:00<00:00,  8.28it/s]\n",
      "Upserted vectors: 100%|██████████| 1/1 [00:00<00:00,  9.06it/s]\n"
     ]
    },
    {
     "name": "stdout",
     "output_type": "stream",
     "text": [
      "                                                   84\n",
      "7                                           Beverages\n",
      "8                                            30201030\n",
      "9                                         Soft Drinks\n",
      "10  Producers of non-alcoholic beverages including...\n",
      "11  [\\n  {\\n    \"risk\": \"Water Scarcity\",\\n    \"mi...\n"
     ]
    },
    {
     "name": "stderr",
     "output_type": "stream",
     "text": [
      "Calculating embeddings: 100%|██████████| 1/1 [00:00<00:00,  7.81it/s]\n",
      "Upserted vectors: 100%|██████████| 1/1 [00:00<00:00, 10.49it/s]\n"
     ]
    },
    {
     "name": "stdout",
     "output_type": "stream",
     "text": [
      "                                                   85\n",
      "7                                       Food Products\n",
      "8                                            30202010\n",
      "9                               Agricultural Products\n",
      "10  Producers of agricultural products. Includes c...\n",
      "11  [\\n  {\\n    \"risk\": \"Drought leading to crop f...\n"
     ]
    },
    {
     "name": "stderr",
     "output_type": "stream",
     "text": [
      "Calculating embeddings: 100%|██████████| 1/1 [00:00<00:00,  7.48it/s]\n",
      "Upserted vectors: 100%|██████████| 1/1 [00:00<00:00, 12.03it/s]\n"
     ]
    },
    {
     "name": "stdout",
     "output_type": "stream",
     "text": [
      "                                                   86\n",
      "7                                       Food Products\n",
      "8                                            30202030\n",
      "9                              Packaged Foods & Meats\n",
      "10  Producers of packaged foods including dairy pr...\n",
      "11  [\\n    {\\n        \"risk\": \"Extreme weather eve...\n"
     ]
    },
    {
     "name": "stderr",
     "output_type": "stream",
     "text": [
      "Calculating embeddings: 100%|██████████| 1/1 [00:00<00:00,  5.98it/s]\n",
      "Upserted vectors: 100%|██████████| 1/1 [00:00<00:00,  9.36it/s]\n"
     ]
    },
    {
     "name": "stdout",
     "output_type": "stream",
     "text": [
      "                                                   87\n",
      "7                                             Tobacco\n",
      "8                                            30203010\n",
      "9                                             Tobacco\n",
      "10  Manufacturers of cigarettes and other tobacco ...\n",
      "11  [\\n  {\\n    \"risk\": \"Extreme weather events di...\n"
     ]
    },
    {
     "name": "stderr",
     "output_type": "stream",
     "text": [
      "Calculating embeddings: 100%|██████████| 1/1 [00:00<00:00,  5.81it/s]\n",
      "Upserted vectors: 100%|██████████| 1/1 [00:00<00:00, 12.67it/s]\n"
     ]
    },
    {
     "name": "stdout",
     "output_type": "stream",
     "text": [
      "                                                   88\n",
      "7                                  Household Products\n",
      "8                                            30301010\n",
      "9                                  Household Products\n",
      "10  Producers of non-durable household products, i...\n",
      "11  [\\n  {\\n    \"risk\": \"Increased operational cos...\n"
     ]
    },
    {
     "name": "stderr",
     "output_type": "stream",
     "text": [
      "Calculating embeddings: 100%|██████████| 1/1 [00:00<00:00,  7.53it/s]\n",
      "Upserted vectors: 100%|██████████| 1/1 [00:00<00:00, 12.40it/s]\n"
     ]
    },
    {
     "name": "stdout",
     "output_type": "stream",
     "text": [
      "                                                   89\n",
      "7                                   Personal Products\n",
      "8                                            30302010\n",
      "9                                   Personal Products\n",
      "10  Manufacturers of personal and beauty care prod...\n",
      "11  [\\n  {\\n    \"risk\": \"Disruption of supply chai...\n"
     ]
    },
    {
     "name": "stderr",
     "output_type": "stream",
     "text": [
      "Calculating embeddings: 100%|██████████| 1/1 [00:00<00:00,  8.03it/s]\n",
      "Upserted vectors: 100%|██████████| 1/1 [00:00<00:00,  8.68it/s]\n"
     ]
    },
    {
     "name": "stdout",
     "output_type": "stream",
     "text": [
      "                                                   90\n",
      "7                    Health Care Equipment & Supplies\n",
      "8                                            35101010\n",
      "9                               Health Care Equipment\n",
      "10  Manufacturers of health care equipment and dev...\n",
      "11  [\\n  {\\n    \"risk\": \"Environmental regulations...\n"
     ]
    },
    {
     "name": "stderr",
     "output_type": "stream",
     "text": [
      "Calculating embeddings: 100%|██████████| 1/1 [00:00<00:00,  7.08it/s]\n",
      "Upserted vectors: 100%|██████████| 1/1 [00:00<00:00,  8.28it/s]\n"
     ]
    },
    {
     "name": "stdout",
     "output_type": "stream",
     "text": [
      "                                                   91\n",
      "7                    Health Care Equipment & Supplies\n",
      "8                                            35101020\n",
      "9                                Health Care Supplies\n",
      "10  Manufacturers of health care supplies and medi...\n",
      "11  [\\n  {\\n    \"risk\": \"Disruption in the supply ...\n"
     ]
    },
    {
     "name": "stderr",
     "output_type": "stream",
     "text": [
      "Calculating embeddings: 100%|██████████| 1/1 [00:00<00:00,  7.62it/s]\n",
      "Upserted vectors: 100%|██████████| 1/1 [00:00<00:00,  5.94it/s]\n"
     ]
    },
    {
     "name": "stdout",
     "output_type": "stream",
     "text": [
      "                                                   92\n",
      "7                    Health Care Providers & Services\n",
      "8                                            35102010\n",
      "9                            Health Care Distributors\n",
      "10  Distributors and wholesalers of health care pr...\n",
      "11  [\\n  {\\n    \"risk\": \"Disruption in supply chai...\n"
     ]
    },
    {
     "name": "stderr",
     "output_type": "stream",
     "text": [
      "Calculating embeddings: 100%|██████████| 1/1 [00:00<00:00,  6.46it/s]\n",
      "Upserted vectors: 100%|██████████| 1/1 [00:00<00:00,  8.28it/s]\n"
     ]
    },
    {
     "name": "stdout",
     "output_type": "stream",
     "text": [
      "                                                   93\n",
      "7                    Health Care Providers & Services\n",
      "8                                            35102015\n",
      "9                                Health Care Services\n",
      "10  Providers of patient health care services not ...\n",
      "11  [\\n  {\\n    \"risk\": \"Extreme weather events di...\n"
     ]
    },
    {
     "name": "stderr",
     "output_type": "stream",
     "text": [
      "Calculating embeddings: 100%|██████████| 1/1 [00:00<00:00,  6.74it/s]\n",
      "Upserted vectors: 100%|██████████| 1/1 [00:00<00:00, 12.78it/s]\n"
     ]
    },
    {
     "name": "stdout",
     "output_type": "stream",
     "text": [
      "                                                   94\n",
      "7                    Health Care Providers & Services\n",
      "8                                            35102020\n",
      "9                              Health Care Facilities\n",
      "10  Owners and operators of health care facilities...\n",
      "11  [\\n{\\n\"risk\": \"Increase in infectious diseases...\n"
     ]
    },
    {
     "name": "stderr",
     "output_type": "stream",
     "text": [
      "Calculating embeddings: 100%|██████████| 1/1 [00:00<00:00,  7.57it/s]\n",
      "Upserted vectors: 100%|██████████| 1/1 [00:00<00:00,  8.65it/s]\n"
     ]
    },
    {
     "name": "stdout",
     "output_type": "stream",
     "text": [
      "                                                   95\n",
      "7                    Health Care Providers & Services\n",
      "8                                            35102030\n",
      "9                                 Managed Health Care\n",
      "10  Owners and operators of Health Maintenance Org...\n",
      "11  [\\n  {\\n    \"risk\": \"Increased operating costs...\n"
     ]
    },
    {
     "name": "stderr",
     "output_type": "stream",
     "text": [
      "Calculating embeddings: 100%|██████████| 1/1 [00:00<00:00,  5.70it/s]\n",
      "Upserted vectors: 100%|██████████| 1/1 [00:00<00:00, 10.57it/s]\n"
     ]
    },
    {
     "name": "stdout",
     "output_type": "stream",
     "text": [
      "                                                   96\n",
      "7                              Health Care Technology\n",
      "8                                            35103010\n",
      "9                              Health Care Technology\n",
      "10  Companies providing information technology ser...\n",
      "11  [\\n  {\\n    \"risk\": \"Damage to physical infras...\n"
     ]
    },
    {
     "name": "stderr",
     "output_type": "stream",
     "text": [
      "Calculating embeddings: 100%|██████████| 1/1 [00:00<00:00,  6.84it/s]\n",
      "Upserted vectors: 100%|██████████| 1/1 [00:00<00:00, 12.27it/s]\n"
     ]
    },
    {
     "name": "stdout",
     "output_type": "stream",
     "text": [
      "                                                   97\n",
      "7                                       Biotechnology\n",
      "8                                            35201010\n",
      "9                                       Biotechnology\n",
      "10  Companies primarily engaged in the research, d...\n",
      "11  [\\n{\\n\"risk\": \"Impacts of extreme weather disa...\n"
     ]
    },
    {
     "name": "stderr",
     "output_type": "stream",
     "text": [
      "Calculating embeddings: 100%|██████████| 1/1 [00:00<00:00,  7.85it/s]\n",
      "Upserted vectors: 100%|██████████| 1/1 [00:00<00:00, 10.12it/s]\n"
     ]
    },
    {
     "name": "stdout",
     "output_type": "stream",
     "text": [
      "                                                   98\n",
      "7                                     Pharmaceuticals\n",
      "8                                            35202010\n",
      "9                                     Pharmaceuticals\n",
      "10  Companies engaged in the research, development...\n",
      "11  [\\n  {\\n    \"risk\": \"Extreme weather events di...\n"
     ]
    },
    {
     "name": "stderr",
     "output_type": "stream",
     "text": [
      "Calculating embeddings: 100%|██████████| 1/1 [00:00<00:00,  7.99it/s]\n",
      "Upserted vectors: 100%|██████████| 1/1 [00:00<00:00,  6.94it/s]\n"
     ]
    },
    {
     "name": "stdout",
     "output_type": "stream",
     "text": [
      "                                                   99\n",
      "7                      Life Sciences Tools & Services\n",
      "8                                            35203010\n",
      "9                      Life Sciences Tools & Services\n",
      "10  Companies enabling the drug discovery, develop...\n",
      "11  [\\n  {\\n    \"risk\": \"Disruption of Supply Chai...\n"
     ]
    },
    {
     "name": "stderr",
     "output_type": "stream",
     "text": [
      "Calculating embeddings: 100%|██████████| 1/1 [00:00<00:00,  6.44it/s]\n",
      "Upserted vectors: 100%|██████████| 1/1 [00:00<00:00, 12.78it/s]\n"
     ]
    },
    {
     "name": "stdout",
     "output_type": "stream",
     "text": [
      "                                                  100\n",
      "7                                               Banks\n",
      "8                                            40101010\n",
      "9                                   Diversified Banks\n",
      "10  Large, geographically diverse banks with a nat...\n",
      "11  [\\n    {\\n        \"risk\": \"Physical risks due ...\n"
     ]
    },
    {
     "name": "stderr",
     "output_type": "stream",
     "text": [
      "Calculating embeddings: 100%|██████████| 1/1 [00:00<00:00,  8.00it/s]\n",
      "Upserted vectors: 100%|██████████| 1/1 [00:00<00:00,  6.28it/s]\n"
     ]
    },
    {
     "name": "stdout",
     "output_type": "stream",
     "text": [
      "                                                  101\n",
      "7                                               Banks\n",
      "8                                            40101015\n",
      "9                                      Regional Banks\n",
      "10  Commercial banks whose businesses are derived ...\n",
      "11  [{\"risk\": \"Rising sea levels due to climate ch...\n"
     ]
    },
    {
     "name": "stderr",
     "output_type": "stream",
     "text": [
      "Calculating embeddings: 100%|██████████| 1/1 [00:00<00:00,  4.92it/s]\n",
      "Upserted vectors: 100%|██████████| 1/1 [00:00<00:00, 12.67it/s]\n"
     ]
    },
    {
     "name": "stdout",
     "output_type": "stream",
     "text": [
      "                                                  102\n",
      "7                          Thrifts & Mortgage Finance\n",
      "8                                            40102010\n",
      "9                          Thrifts & Mortgage Finance\n",
      "10  Financial institutions providing mortgage and ...\n",
      "11  [\\n{ \\n\"risk\": \"Economic downturns causing an ...\n"
     ]
    },
    {
     "name": "stderr",
     "output_type": "stream",
     "text": [
      "Calculating embeddings: 100%|██████████| 1/1 [00:00<00:00,  8.38it/s]\n",
      "Upserted vectors: 100%|██████████| 1/1 [00:00<00:00, 12.56it/s]\n"
     ]
    },
    {
     "name": "stdout",
     "output_type": "stream",
     "text": [
      "                                                  103\n",
      "7                      Diversified Financial Services\n",
      "8                                            40201020\n",
      "9                Other Diversified Financial Services\n",
      "10  Providers of a diverse range of financial serv...\n",
      "11  [\\n    {\\n        \"risk\": \"Credit risk from cu...\n"
     ]
    },
    {
     "name": "stderr",
     "output_type": "stream",
     "text": [
      "Calculating embeddings: 100%|██████████| 1/1 [00:00<00:00,  4.11it/s]\n",
      "Upserted vectors: 100%|██████████| 1/1 [00:00<00:00, 11.67it/s]\n"
     ]
    },
    {
     "name": "stdout",
     "output_type": "stream",
     "text": [
      "                                                  104\n",
      "7                      Diversified Financial Services\n",
      "8                                            40201030\n",
      "9                               Multi-Sector Holdings\n",
      "10  A company with significantly diversified holdi...\n",
      "11  [\\n  {\\n    \"risk\": \"Stricter environmental re...\n"
     ]
    },
    {
     "name": "stderr",
     "output_type": "stream",
     "text": [
      "Calculating embeddings: 100%|██████████| 1/1 [00:00<00:00,  5.87it/s]\n",
      "Upserted vectors: 100%|██████████| 1/1 [00:00<00:00, 10.59it/s]\n"
     ]
    },
    {
     "name": "stdout",
     "output_type": "stream",
     "text": [
      "                                                  105\n",
      "7                      Diversified Financial Services\n",
      "8                                            40201040\n",
      "9                                 Specialized Finance\n",
      "10  Providers of specialized financial services no...\n",
      "11  [\\n  {\\n    \"risk\": \"Uncertainty in financial ...\n"
     ]
    },
    {
     "name": "stderr",
     "output_type": "stream",
     "text": [
      "Calculating embeddings: 100%|██████████| 1/1 [00:00<00:00,  6.91it/s]\n",
      "Upserted vectors: 100%|██████████| 1/1 [00:00<00:00,  9.45it/s]\n"
     ]
    },
    {
     "name": "stdout",
     "output_type": "stream",
     "text": [
      "                                                  106\n",
      "7                                    Consumer Finance\n",
      "8                                            40202010\n",
      "9                                    Consumer Finance\n",
      "10  Providers of consumer finance services, includ...\n",
      "11  [\\n  {\\n    \"risk\": \"Implications of new green...\n"
     ]
    },
    {
     "name": "stderr",
     "output_type": "stream",
     "text": [
      "Calculating embeddings: 100%|██████████| 1/1 [00:00<00:00,  7.05it/s]\n",
      "Upserted vectors: 100%|██████████| 1/1 [00:00<00:00,  6.42it/s]\n"
     ]
    },
    {
     "name": "stdout",
     "output_type": "stream",
     "text": [
      "                                                  107\n",
      "7                                     Capital Markets\n",
      "8                                            40203010\n",
      "9                    Asset Management & Custody Banks\n",
      "10  Financial institutions primarily engaged in in...\n",
      "11  [\\n{\\n\"risk\": \"Increased regulatory pressures ...\n"
     ]
    },
    {
     "name": "stderr",
     "output_type": "stream",
     "text": [
      "Calculating embeddings: 100%|██████████| 1/1 [00:00<00:00,  8.23it/s]\n",
      "Upserted vectors: 100%|██████████| 1/1 [00:00<00:00,  4.16it/s]\n"
     ]
    },
    {
     "name": "stdout",
     "output_type": "stream",
     "text": [
      "                                                  108\n",
      "7                                     Capital Markets\n",
      "8                                            40203020\n",
      "9                      Investment Banking & Brokerage\n",
      "10  Financial institutions primarily engaged in in...\n",
      "11  [\\n  {\\n    \"risk\": \"Physical risk due to extr...\n"
     ]
    },
    {
     "name": "stderr",
     "output_type": "stream",
     "text": [
      "Calculating embeddings: 100%|██████████| 1/1 [00:00<00:00,  8.04it/s]\n",
      "Upserted vectors: 100%|██████████| 1/1 [00:00<00:00, 13.87it/s]\n"
     ]
    },
    {
     "name": "stdout",
     "output_type": "stream",
     "text": [
      "                                                  109\n",
      "7                                     Capital Markets\n",
      "8                                            40203030\n",
      "9                         Diversified Capital Markets\n",
      "10  Financial institutions primarily engaged in di...\n",
      "11  [\\n  {\\n    \"risk\": \"Increased insurance claim...\n"
     ]
    },
    {
     "name": "stderr",
     "output_type": "stream",
     "text": [
      "Calculating embeddings: 100%|██████████| 1/1 [00:00<00:00,  8.22it/s]\n",
      "Upserted vectors: 100%|██████████| 1/1 [00:00<00:00, 10.21it/s]\n"
     ]
    },
    {
     "name": "stdout",
     "output_type": "stream",
     "text": [
      "                                                  110\n",
      "7                                     Capital Markets\n",
      "8                                            40203040\n",
      "9                          Financial Exchanges & Data\n",
      "10  Financial exchanges for securities, commoditie...\n",
      "11  [\\n{\\n\"risk\": \"Physical risk from extreme weat...\n"
     ]
    },
    {
     "name": "stderr",
     "output_type": "stream",
     "text": [
      "Calculating embeddings: 100%|██████████| 1/1 [00:00<00:00,  6.52it/s]\n",
      "Upserted vectors: 100%|██████████| 1/1 [00:00<00:00, 12.26it/s]\n"
     ]
    },
    {
     "name": "stdout",
     "output_type": "stream",
     "text": [
      "                                                  111\n",
      "7   Mortgage Real Estate Investment \\n Trusts (REITs)\n",
      "8                                            40204010\n",
      "9                                      Mortgage REITs\n",
      "10  Companies or Trusts that service, originate, p...\n",
      "11  [\\n    {\\n        \"risk\": \"Changes in weather ...\n"
     ]
    },
    {
     "name": "stderr",
     "output_type": "stream",
     "text": [
      "Calculating embeddings: 100%|██████████| 1/1 [00:00<00:00,  7.12it/s]\n",
      "Upserted vectors: 100%|██████████| 1/1 [00:00<00:00,  9.38it/s]\n"
     ]
    },
    {
     "name": "stdout",
     "output_type": "stream",
     "text": [
      "                                                  112\n",
      "7                                           Insurance\n",
      "8                                            40301010\n",
      "9                                   Insurance Brokers\n",
      "10         Insurance and reinsurance brokerage firms.\n",
      "11  [\\n\\t{\\n\\t\\t\"risk\": \"Losses from weather-relat...\n"
     ]
    },
    {
     "name": "stderr",
     "output_type": "stream",
     "text": [
      "Calculating embeddings: 100%|██████████| 1/1 [00:00<00:00,  8.22it/s]\n",
      "Upserted vectors: 100%|██████████| 1/1 [00:00<00:00, 12.97it/s]\n"
     ]
    },
    {
     "name": "stdout",
     "output_type": "stream",
     "text": [
      "                                                  113\n",
      "7                                           Insurance\n",
      "8                                            40301020\n",
      "9                             Life & Health Insurance\n",
      "10  Companies providing primarily life, disability...\n",
      "11  [\\n  {\\n    \"risk\": \"Increased health claims d...\n"
     ]
    },
    {
     "name": "stderr",
     "output_type": "stream",
     "text": [
      "Calculating embeddings: 100%|██████████| 1/1 [00:00<00:00,  6.85it/s]\n",
      "Upserted vectors: 100%|██████████| 1/1 [00:00<00:00, 12.93it/s]\n"
     ]
    },
    {
     "name": "stdout",
     "output_type": "stream",
     "text": [
      "                                                  114\n",
      "7                                           Insurance\n",
      "8                                            40301030\n",
      "9                                Multi-line Insurance\n",
      "10  Insurance companies with diversified interests...\n",
      "11  [\\n  {\\n    \"risk\": \"Rising Claims Costs Due t...\n"
     ]
    },
    {
     "name": "stderr",
     "output_type": "stream",
     "text": [
      "Calculating embeddings: 100%|██████████| 1/1 [00:00<00:00,  7.10it/s]\n",
      "Upserted vectors: 100%|██████████| 1/1 [00:00<00:00, 13.16it/s]\n"
     ]
    },
    {
     "name": "stdout",
     "output_type": "stream",
     "text": [
      "                                                  115\n",
      "7                                           Insurance\n",
      "8                                            40301040\n",
      "9                       Property & Casualty Insurance\n",
      "10  Companies providing primarily property and cas...\n",
      "11  [\\n{\\n\"risk\": \"Increased claims due to extreme...\n"
     ]
    },
    {
     "name": "stderr",
     "output_type": "stream",
     "text": [
      "Calculating embeddings: 100%|██████████| 1/1 [00:00<00:00,  5.89it/s]\n",
      "Upserted vectors: 100%|██████████| 1/1 [00:00<00:00,  9.33it/s]\n"
     ]
    },
    {
     "name": "stdout",
     "output_type": "stream",
     "text": [
      "                                                  116\n",
      "7                                           Insurance\n",
      "8                                            40301050\n",
      "9                                         Reinsurance\n",
      "10         Companies providing primarily reinsurance.\n",
      "11  [\\n  {\\n    \"risk\": \"Changes in severe weather...\n"
     ]
    },
    {
     "name": "stderr",
     "output_type": "stream",
     "text": [
      "Calculating embeddings: 100%|██████████| 1/1 [00:00<00:00,  7.90it/s]\n",
      "Upserted vectors: 100%|██████████| 1/1 [00:00<00:00,  7.38it/s]\n"
     ]
    },
    {
     "name": "stdout",
     "output_type": "stream",
     "text": [
      "                                                  117\n",
      "7                                         IT Services\n",
      "8                                            45102010\n",
      "9                      IT Consulting & Other Services\n",
      "10  Providers of information technology and system...\n",
      "11  [\\n{\\n\"risk\": \"Data center overheating due to ...\n"
     ]
    },
    {
     "name": "stderr",
     "output_type": "stream",
     "text": [
      "Calculating embeddings: 100%|██████████| 1/1 [00:00<00:00,  7.80it/s]\n",
      "Upserted vectors: 100%|██████████| 1/1 [00:00<00:00, 13.43it/s]\n"
     ]
    },
    {
     "name": "stdout",
     "output_type": "stream",
     "text": [
      "                                                  118\n",
      "7                                         IT Services\n",
      "8                                            45102020\n",
      "9               Data Processing & Outsourced Services\n",
      "10  Providers of commercial electronic data proces...\n",
      "11  [\\n  {\\n    \"risk\": \"Data center overheating d...\n"
     ]
    },
    {
     "name": "stderr",
     "output_type": "stream",
     "text": [
      "Calculating embeddings: 100%|██████████| 1/1 [00:00<00:00,  8.72it/s]\n",
      "Upserted vectors: 100%|██████████| 1/1 [00:00<00:00, 10.98it/s]\n"
     ]
    },
    {
     "name": "stdout",
     "output_type": "stream",
     "text": [
      "                                                  119\n",
      "7                                         IT Services\n",
      "8                                            45102030\n",
      "9                  Internet Services & Infrastructure\n",
      "10  Companies providing services and infrastructur...\n",
      "11  [\\n  {\\n    \"risk\": \"Risk of physical damage t...\n"
     ]
    },
    {
     "name": "stderr",
     "output_type": "stream",
     "text": [
      "Calculating embeddings: 100%|██████████| 1/1 [00:00<00:00,  8.05it/s]\n",
      "Upserted vectors: 100%|██████████| 1/1 [00:00<00:00, 13.68it/s]\n"
     ]
    },
    {
     "name": "stdout",
     "output_type": "stream",
     "text": [
      "                                                  120\n",
      "7                                            Software\n",
      "8                                            45103010\n",
      "9                                Application Software\n",
      "10  Companies engaged in developing and producing ...\n",
      "11  [\\n    {\\n        \"risk\": \"Increased energy de...\n"
     ]
    },
    {
     "name": "stderr",
     "output_type": "stream",
     "text": [
      "Calculating embeddings: 100%|██████████| 1/1 [00:00<00:00,  7.46it/s]\n",
      "Upserted vectors: 100%|██████████| 1/1 [00:00<00:00, 13.69it/s]\n"
     ]
    },
    {
     "name": "stdout",
     "output_type": "stream",
     "text": [
      "                                                  121\n",
      "7                                            Software\n",
      "8                                            45103020\n",
      "9                                    Systems Software\n",
      "10  Companies engaged in developing and producing ...\n",
      "11  [\\n  {\\n    \"risk\": \"Physical damage to infras...\n"
     ]
    },
    {
     "name": "stderr",
     "output_type": "stream",
     "text": [
      "Calculating embeddings: 100%|██████████| 1/1 [00:00<00:00,  4.13it/s]\n",
      "Upserted vectors: 100%|██████████| 1/1 [00:00<00:00, 13.51it/s]\n"
     ]
    },
    {
     "name": "stdout",
     "output_type": "stream",
     "text": [
      "                                                  122\n",
      "7                            Communications Equipment\n",
      "8                                            45201020\n",
      "9                            Communications Equipment\n",
      "10  Manufacturers of communication equipment and p...\n",
      "11  [\\n  {\\n    \"risk\": \"Disruptions in supply cha...\n"
     ]
    },
    {
     "name": "stderr",
     "output_type": "stream",
     "text": [
      "Calculating embeddings: 100%|██████████| 1/1 [00:00<00:00,  8.36it/s]\n",
      "Upserted vectors: 100%|██████████| 1/1 [00:00<00:00, 12.96it/s]\n"
     ]
    },
    {
     "name": "stdout",
     "output_type": "stream",
     "text": [
      "                                                  123\n",
      "7          Technology Hardware, Storage & Peripherals\n",
      "8                                            45202030\n",
      "9          Technology Hardware, Storage & Peripherals\n",
      "10  Manufacturers of cellular phones, personal com...\n",
      "11  [\\n  {\\n    \"risk\": \"Disruption of production ...\n"
     ]
    },
    {
     "name": "stderr",
     "output_type": "stream",
     "text": [
      "Calculating embeddings: 100%|██████████| 1/1 [00:00<00:00,  7.82it/s]\n",
      "Upserted vectors: 100%|██████████| 1/1 [00:00<00:00, 11.06it/s]\n"
     ]
    },
    {
     "name": "stdout",
     "output_type": "stream",
     "text": [
      "                                                  124\n",
      "7      Electronic Equipment, Instruments & Components\n",
      "8                                            45203010\n",
      "9                  Electronic Equipment & Instruments\n",
      "10  Manufacturers of electronic equipment and inst...\n",
      "11  [\\n  {\\n    \"risk\": \"Potential disruption of p...\n"
     ]
    },
    {
     "name": "stderr",
     "output_type": "stream",
     "text": [
      "Calculating embeddings: 100%|██████████| 1/1 [00:00<00:00,  7.70it/s]\n",
      "Upserted vectors: 100%|██████████| 1/1 [00:00<00:00, 10.94it/s]\n"
     ]
    },
    {
     "name": "stdout",
     "output_type": "stream",
     "text": [
      "                                                  125\n",
      "7      Electronic Equipment, Instruments & Components\n",
      "8                                            45203015\n",
      "9                               Electronic Components\n",
      "10  Manufacturers of electronic components. Includ...\n",
      "11  [\\n  {\\n    \"risk\": \"Damage to facilities due ...\n"
     ]
    },
    {
     "name": "stderr",
     "output_type": "stream",
     "text": [
      "Calculating embeddings: 100%|██████████| 1/1 [00:00<00:00,  6.93it/s]\n",
      "Upserted vectors: 100%|██████████| 1/1 [00:00<00:00, 10.54it/s]\n"
     ]
    },
    {
     "name": "stdout",
     "output_type": "stream",
     "text": [
      "                                                  126\n",
      "7      Electronic Equipment, Instruments & Components\n",
      "8                                            45203020\n",
      "9                   Electronic Manufacturing Services\n",
      "10  Producers of electronic equipment mainly for t...\n",
      "11  [\\n    {\\n        \"risk\": \"Increased operation...\n"
     ]
    },
    {
     "name": "stderr",
     "output_type": "stream",
     "text": [
      "Calculating embeddings: 100%|██████████| 1/1 [00:00<00:00,  7.39it/s]\n",
      "Upserted vectors: 100%|██████████| 1/1 [00:00<00:00,  9.49it/s]\n"
     ]
    },
    {
     "name": "stdout",
     "output_type": "stream",
     "text": [
      "                                                  127\n",
      "7      Electronic Equipment, Instruments & Components\n",
      "8                                            45203030\n",
      "9                             Technology Distributors\n",
      "10  Distributors of technology hardware and equipm...\n",
      "11  [\\n  {\\n    \"risk\": \"Disruption of supply chai...\n"
     ]
    },
    {
     "name": "stderr",
     "output_type": "stream",
     "text": [
      "Calculating embeddings: 100%|██████████| 1/1 [00:00<00:00,  5.88it/s]\n",
      "Upserted vectors: 100%|██████████| 1/1 [00:00<00:00, 13.76it/s]\n"
     ]
    },
    {
     "name": "stdout",
     "output_type": "stream",
     "text": [
      "                                                  128\n",
      "7            Semiconductors & Semiconductor Equipment\n",
      "8                                            45301010\n",
      "9                             Semiconductor Equipment\n",
      "10  Manufacturers of semiconductor equipment, incl...\n",
      "11  [\\n  {\\n    \"risk\": \"Extreme weather events da...\n"
     ]
    },
    {
     "name": "stderr",
     "output_type": "stream",
     "text": [
      "Calculating embeddings: 100%|██████████| 1/1 [00:00<00:00,  8.75it/s]\n",
      "Upserted vectors: 100%|██████████| 1/1 [00:00<00:00, 12.37it/s]\n"
     ]
    },
    {
     "name": "stdout",
     "output_type": "stream",
     "text": [
      "                                                  129\n",
      "7            Semiconductors & Semiconductor Equipment\n",
      "8                                            45301020\n",
      "9                                      Semiconductors\n",
      "10  Manufacturers of semiconductors and related pr...\n",
      "11  [\\n    {\\n        \"risk\": \"Resource scarcity d...\n"
     ]
    },
    {
     "name": "stderr",
     "output_type": "stream",
     "text": [
      "Calculating embeddings: 100%|██████████| 1/1 [00:00<00:00,  7.93it/s]\n",
      "Upserted vectors: 100%|██████████| 1/1 [00:00<00:00,  9.81it/s]\n"
     ]
    },
    {
     "name": "stdout",
     "output_type": "stream",
     "text": [
      "                                                  130\n",
      "7              Diversified Telecommunication Services\n",
      "8                                            50101010\n",
      "9                                Alternative Carriers\n",
      "10  Providers of communications and high-density d...\n",
      "11  [\\n  {\\n    \"risk\": \"Extreme weather condition...\n"
     ]
    },
    {
     "name": "stderr",
     "output_type": "stream",
     "text": [
      "Calculating embeddings: 100%|██████████| 1/1 [00:00<00:00,  8.53it/s]\n",
      "Upserted vectors: 100%|██████████| 1/1 [00:00<00:00, 13.13it/s]\n"
     ]
    },
    {
     "name": "stdout",
     "output_type": "stream",
     "text": [
      "                                                  131\n",
      "7              Diversified Telecommunication Services\n",
      "8                                            50101020\n",
      "9               Integrated Telecommunication Services\n",
      "10  Operators of primarily fixed-line telecommunic...\n",
      "11  [\\n  {\\n    \"risk\": \"Extreme weather events ca...\n"
     ]
    },
    {
     "name": "stderr",
     "output_type": "stream",
     "text": [
      "Calculating embeddings: 100%|██████████| 1/1 [00:00<00:00,  7.97it/s]\n",
      "Upserted vectors: 100%|██████████| 1/1 [00:00<00:00, 10.13it/s]\n"
     ]
    },
    {
     "name": "stdout",
     "output_type": "stream",
     "text": [
      "                                                  132\n",
      "7                 Wireless Telecommunication Services\n",
      "8                                            50102010\n",
      "9                 Wireless Telecommunication Services\n",
      "10  Providers of primarily cellular or wireless te...\n",
      "11  [\\n  {\\n    \"risk\": \"Extreme Weather Events\",\\...\n"
     ]
    },
    {
     "name": "stderr",
     "output_type": "stream",
     "text": [
      "Calculating embeddings: 100%|██████████| 1/1 [00:00<00:00,  7.40it/s]\n",
      "Upserted vectors: 100%|██████████| 1/1 [00:00<00:00, 10.12it/s]\n"
     ]
    },
    {
     "name": "stdout",
     "output_type": "stream",
     "text": [
      "                                                  133\n",
      "7                                               Media\n",
      "8                                            50201010\n",
      "9                                         Advertising\n",
      "10  Companies providing advertising, marketing or ...\n",
      "11  [\\n{\\n\"risk\": \"Increased operational costs due...\n"
     ]
    },
    {
     "name": "stderr",
     "output_type": "stream",
     "text": [
      "Calculating embeddings: 100%|██████████| 1/1 [00:00<00:00,  7.93it/s]\n",
      "Upserted vectors: 100%|██████████| 1/1 [00:00<00:00, 10.08it/s]\n"
     ]
    },
    {
     "name": "stdout",
     "output_type": "stream",
     "text": [
      "                                                  134\n",
      "7                                               Media\n",
      "8                                            50201020\n",
      "9                                        Broadcasting\n",
      "10  Owners and operators of television or radio br...\n",
      "11  [\\n{\\n\"risk\": \"Extreme weather events affectin...\n"
     ]
    },
    {
     "name": "stderr",
     "output_type": "stream",
     "text": [
      "Calculating embeddings: 100%|██████████| 1/1 [00:00<00:00,  7.47it/s]\n",
      "Upserted vectors: 100%|██████████| 1/1 [00:00<00:00, 11.30it/s]\n"
     ]
    },
    {
     "name": "stdout",
     "output_type": "stream",
     "text": [
      "                                                  135\n",
      "7                                               Media\n",
      "8                                            50201030\n",
      "9                                   Cable & Satellite\n",
      "10  Providers of cable or satellite television ser...\n",
      "11  [\\n  {\\n    \"risk\": \"Disruption of signal tran...\n"
     ]
    },
    {
     "name": "stderr",
     "output_type": "stream",
     "text": [
      "Calculating embeddings: 100%|██████████| 1/1 [00:00<00:00,  8.35it/s]\n",
      "Upserted vectors: 100%|██████████| 1/1 [00:00<00:00,  8.98it/s]\n"
     ]
    },
    {
     "name": "stdout",
     "output_type": "stream",
     "text": [
      "                                                  136\n",
      "7                                               Media\n",
      "8                                            50201040\n",
      "9                                          Publishing\n",
      "10  Publishers of newspapers, magazines and books ...\n",
      "11  [\\n  {\\n    \"risk\": \"Extreme weather events ca...\n"
     ]
    },
    {
     "name": "stderr",
     "output_type": "stream",
     "text": [
      "Calculating embeddings: 100%|██████████| 1/1 [00:00<00:00,  7.51it/s]\n",
      "Upserted vectors: 100%|██████████| 1/1 [00:00<00:00, 12.75it/s]\n"
     ]
    },
    {
     "name": "stdout",
     "output_type": "stream",
     "text": [
      "                                                  137\n",
      "7                                       Entertainment\n",
      "8                                            50202010\n",
      "9                              Movies & Entertainment\n",
      "10  Companies that engage in producing and selling...\n",
      "11  [\\n  {\\n    \"risk\": \"Extreme weather events re...\n"
     ]
    },
    {
     "name": "stderr",
     "output_type": "stream",
     "text": [
      "Calculating embeddings: 100%|██████████| 1/1 [00:00<00:00,  7.53it/s]\n",
      "Upserted vectors: 100%|██████████| 1/1 [00:00<00:00, 12.45it/s]\n"
     ]
    },
    {
     "name": "stdout",
     "output_type": "stream",
     "text": [
      "                                                  138\n",
      "7                                       Entertainment\n",
      "8                                            50202020\n",
      "9                      Interactive Home Entertainment\n",
      "10  Producers of interactive gaming products, incl...\n",
      "11  [\\n  {\\n    \"risk\": \"Operational disruption du...\n"
     ]
    },
    {
     "name": "stderr",
     "output_type": "stream",
     "text": [
      "Calculating embeddings: 100%|██████████| 1/1 [00:00<00:00,  8.19it/s]\n",
      "Upserted vectors: 100%|██████████| 1/1 [00:00<00:00,  9.14it/s]\n"
     ]
    },
    {
     "name": "stdout",
     "output_type": "stream",
     "text": [
      "                                                  139\n",
      "7                        Interactive Media & Services\n",
      "8                                            50203010\n",
      "9                        Interactive Media & Services\n",
      "10  Companies engaging in content and information ...\n",
      "11  [\\n  {\\n    \"risk\": \"Increased operational cos...\n"
     ]
    },
    {
     "name": "stderr",
     "output_type": "stream",
     "text": [
      "Calculating embeddings: 100%|██████████| 1/1 [00:00<00:00,  8.73it/s]\n",
      "Upserted vectors: 100%|██████████| 1/1 [00:00<00:00, 11.35it/s]\n"
     ]
    },
    {
     "name": "stdout",
     "output_type": "stream",
     "text": [
      "                                                  140\n",
      "7                                  Electric Utilities\n",
      "8                                            55101010\n",
      "9                                  Electric Utilities\n",
      "10  Companies that produce or distribute electrici...\n",
      "11  [\\n    {\\n        \"risk\": \"Impact on hydroelec...\n"
     ]
    },
    {
     "name": "stderr",
     "output_type": "stream",
     "text": [
      "Calculating embeddings: 100%|██████████| 1/1 [00:00<00:00,  7.19it/s]\n",
      "Upserted vectors: 100%|██████████| 1/1 [00:00<00:00, 14.02it/s]\n"
     ]
    },
    {
     "name": "stdout",
     "output_type": "stream",
     "text": [
      "                                                  141\n",
      "7                                       Gas Utilities\n",
      "8                                            55102010\n",
      "9                                       Gas Utilities\n",
      "10  Companies whose main charter is to distribute ...\n",
      "11  [\\n  {\\n    \"risk\": \"Extreme weather events di...\n"
     ]
    },
    {
     "name": "stderr",
     "output_type": "stream",
     "text": [
      "Calculating embeddings: 100%|██████████| 1/1 [00:00<00:00,  6.37it/s]\n",
      "Upserted vectors: 100%|██████████| 1/1 [00:00<00:00, 13.07it/s]\n"
     ]
    },
    {
     "name": "stdout",
     "output_type": "stream",
     "text": [
      "                                                  142\n",
      "7                                     Multi-Utilities\n",
      "8                                            55103010\n",
      "9                                     Multi-Utilities\n",
      "10  Utility companies with significantly diversifi...\n",
      "11  [\\n  {\\n    \"risk\": \"Rising temperatures causi...\n"
     ]
    },
    {
     "name": "stderr",
     "output_type": "stream",
     "text": [
      "Calculating embeddings: 100%|██████████| 1/1 [00:00<00:00,  8.61it/s]\n",
      "Upserted vectors: 100%|██████████| 1/1 [00:00<00:00,  6.70it/s]\n"
     ]
    },
    {
     "name": "stdout",
     "output_type": "stream",
     "text": [
      "                                                  143\n",
      "7                                     Water Utilities\n",
      "8                                            55104010\n",
      "9                                     Water Utilities\n",
      "10  Companies that purchase and redistribute water...\n",
      "11  [\\n  {\\n    \"risk\": \"Risk of pollution and wat...\n"
     ]
    },
    {
     "name": "stderr",
     "output_type": "stream",
     "text": [
      "Calculating embeddings: 100%|██████████| 1/1 [00:00<00:00,  8.68it/s]\n",
      "Upserted vectors: 100%|██████████| 1/1 [00:00<00:00, 12.46it/s]\n"
     ]
    },
    {
     "name": "stdout",
     "output_type": "stream",
     "text": [
      "                                                  144\n",
      "7   Independent Power and Renewable Electricity Pr...\n",
      "8                                            55105010\n",
      "9        Independent Power Producers & Energy Traders\n",
      "10  Companies that operate as Independent Power Pr...\n",
      "11  [\\n    {\"risk\":\"Increase in fuel costs due to ...\n"
     ]
    },
    {
     "name": "stderr",
     "output_type": "stream",
     "text": [
      "Calculating embeddings: 100%|██████████| 1/1 [00:00<00:00,  6.47it/s]\n",
      "Upserted vectors: 100%|██████████| 1/1 [00:00<00:00, 12.03it/s]\n"
     ]
    },
    {
     "name": "stdout",
     "output_type": "stream",
     "text": [
      "                                                  145\n",
      "7   Independent Power and Renewable Electricity Pr...\n",
      "8                                            55105020\n",
      "9                               Renewable Electricity\n",
      "10  Companies that engage in the generation and di...\n",
      "11  [\\n  {\\n    \"risk\": \"Fluctuation in weather pa...\n"
     ]
    },
    {
     "name": "stderr",
     "output_type": "stream",
     "text": [
      "Calculating embeddings: 100%|██████████| 1/1 [00:00<00:00,  6.46it/s]\n",
      "Upserted vectors: 100%|██████████| 1/1 [00:00<00:00,  9.34it/s]\n"
     ]
    },
    {
     "name": "stdout",
     "output_type": "stream",
     "text": [
      "                                                  146\n",
      "7        Equity Real Estate Investment Trusts (REITs)\n",
      "8                                            60101010\n",
      "9                                   Diversified REITs\n",
      "10  A company or Trust with significantly diversif...\n",
      "11  [\\n  {\\n   \"risk\": \"Exposure to extreme weathe...\n"
     ]
    },
    {
     "name": "stderr",
     "output_type": "stream",
     "text": [
      "Calculating embeddings: 100%|██████████| 1/1 [00:00<00:00,  9.27it/s]\n",
      "Upserted vectors: 100%|██████████| 1/1 [00:00<00:00, 12.26it/s]\n"
     ]
    },
    {
     "name": "stdout",
     "output_type": "stream",
     "text": [
      "                                                  147\n",
      "7        Equity Real Estate Investment Trusts (REITs)\n",
      "8                                            60101020\n",
      "9                                    Industrial REITs\n",
      "10  Companies or Trusts engaged in the acquisition...\n",
      "11  [\\n    {\\n        \"risk\": \"Extreme Weather Eve...\n"
     ]
    },
    {
     "name": "stderr",
     "output_type": "stream",
     "text": [
      "Calculating embeddings: 100%|██████████| 1/1 [00:00<00:00,  6.74it/s]\n",
      "Upserted vectors: 100%|██████████| 1/1 [00:00<00:00,  6.71it/s]\n"
     ]
    },
    {
     "name": "stdout",
     "output_type": "stream",
     "text": [
      "                                                  148\n",
      "7        Equity Real Estate Investment Trusts (REITs)\n",
      "8                                            60101030\n",
      "9                                Hotel & Resort REITs\n",
      "10  Companies or Trusts engaged in the acquisition...\n",
      "11  [\\n  {\\n    \"risk\": \"Increase in extreme weath...\n"
     ]
    },
    {
     "name": "stderr",
     "output_type": "stream",
     "text": [
      "Calculating embeddings: 100%|██████████| 1/1 [00:00<00:00,  6.90it/s]\n",
      "Upserted vectors: 100%|██████████| 1/1 [00:00<00:00,  6.61it/s]\n"
     ]
    },
    {
     "name": "stdout",
     "output_type": "stream",
     "text": [
      "                                                  149\n",
      "7        Equity Real Estate Investment Trusts (REITs)\n",
      "8                                            60101040\n",
      "9                                        Office REITs\n",
      "10  Companies or Trusts engaged in the acquisition...\n",
      "11  [\\n    {\\n        \"risk\": \"Increased occurrenc...\n"
     ]
    },
    {
     "name": "stderr",
     "output_type": "stream",
     "text": [
      "Calculating embeddings: 100%|██████████| 1/1 [00:00<00:00,  6.78it/s]\n",
      "Upserted vectors: 100%|██████████| 1/1 [00:01<00:00,  1.12s/it]\n"
     ]
    },
    {
     "name": "stdout",
     "output_type": "stream",
     "text": [
      "                                                  150\n",
      "7        Equity Real Estate Investment Trusts (REITs)\n",
      "8                                            60101050\n",
      "9                                   Health Care REITs\n",
      "10  Companies or Trusts engaged in the acquisition...\n",
      "11  [\\n  {\\n    \"risk\": \"Extreme weather condition...\n"
     ]
    },
    {
     "name": "stderr",
     "output_type": "stream",
     "text": [
      "Calculating embeddings: 100%|██████████| 1/1 [00:00<00:00,  7.53it/s]\n",
      "Upserted vectors: 100%|██████████| 1/1 [00:00<00:00, 10.58it/s]\n"
     ]
    },
    {
     "name": "stdout",
     "output_type": "stream",
     "text": [
      "                                                  151\n",
      "7        Equity Real Estate Investment Trusts (REITs)\n",
      "8                                            60101060\n",
      "9                                   Residential REITs\n",
      "10  Companies or Trusts engaged in the acquisition...\n",
      "11  [\\n    {\\n        \"risk\": \"Damage to propertie...\n"
     ]
    },
    {
     "name": "stderr",
     "output_type": "stream",
     "text": [
      "Calculating embeddings: 100%|██████████| 1/1 [00:00<00:00,  6.41it/s]\n",
      "Upserted vectors: 100%|██████████| 1/1 [00:00<00:00,  8.69it/s]\n"
     ]
    },
    {
     "name": "stdout",
     "output_type": "stream",
     "text": [
      "                                                  152\n",
      "7        Equity Real Estate Investment Trusts (REITs)\n",
      "8                                            60101070\n",
      "9                                        Retail REITs\n",
      "10  Companies or Trusts engaged in the acquisition...\n",
      "11  [\\n    {\\n        \"risk\": \"Rise in extreme wea...\n"
     ]
    },
    {
     "name": "stderr",
     "output_type": "stream",
     "text": [
      "Calculating embeddings: 100%|██████████| 1/1 [00:00<00:00,  8.11it/s]\n",
      "Upserted vectors: 100%|██████████| 1/1 [00:00<00:00, 13.97it/s]\n"
     ]
    },
    {
     "name": "stdout",
     "output_type": "stream",
     "text": [
      "                                                  153\n",
      "7        Equity Real Estate Investment Trusts (REITs)\n",
      "8                                            60101080\n",
      "9                                   Specialized REITs\n",
      "10  Companies or Trusts engaged in the acquisition...\n",
      "11  [\\n  {\\n    \"risk\": \"Extreme Weather Events\",\\...\n"
     ]
    },
    {
     "name": "stderr",
     "output_type": "stream",
     "text": [
      "Calculating embeddings: 100%|██████████| 1/1 [00:00<00:00,  2.27it/s]\n",
      "Upserted vectors: 100%|██████████| 1/1 [00:00<00:00, 13.53it/s]\n"
     ]
    },
    {
     "name": "stdout",
     "output_type": "stream",
     "text": [
      "                                                  154\n",
      "7                Real Estate Management & Development\n",
      "8                                            60102010\n",
      "9                  Diversified Real Estate Activities\n",
      "10  Companies engaged in a diverse spectrum of rea...\n",
      "11  [\\n  {\\n    \"risk\": \"Increased frequency of se...\n"
     ]
    },
    {
     "name": "stderr",
     "output_type": "stream",
     "text": [
      "Calculating embeddings: 100%|██████████| 1/1 [00:00<00:00,  8.22it/s]\n",
      "Upserted vectors: 100%|██████████| 1/1 [00:00<00:00, 12.49it/s]\n"
     ]
    },
    {
     "name": "stdout",
     "output_type": "stream",
     "text": [
      "                                                  155\n",
      "7                Real Estate Management & Development\n",
      "8                                            60102020\n",
      "9                     Real Estate Operating Companies\n",
      "10  Companies engaged in operating real estate pro...\n",
      "11  [\\n  {\\n    \"risk\": \"Increases in extreme weat...\n"
     ]
    },
    {
     "name": "stderr",
     "output_type": "stream",
     "text": [
      "Calculating embeddings: 100%|██████████| 1/1 [00:00<00:00,  6.50it/s]\n",
      "Upserted vectors: 100%|██████████| 1/1 [00:00<00:00,  9.50it/s]\n"
     ]
    },
    {
     "name": "stdout",
     "output_type": "stream",
     "text": [
      "                                                  156\n",
      "7                Real Estate Management & Development\n",
      "8                                            60102030\n",
      "9                             Real Estate Development\n",
      "10  Companies that develop real estate and sell th...\n",
      "11  [\\n  {\\n    \"risk\": \"Physical risk due to extr...\n"
     ]
    },
    {
     "name": "stderr",
     "output_type": "stream",
     "text": [
      "Calculating embeddings: 100%|██████████| 1/1 [00:00<00:00,  8.45it/s]\n",
      "Upserted vectors: 100%|██████████| 1/1 [00:00<00:00,  6.74it/s]\n"
     ]
    },
    {
     "name": "stdout",
     "output_type": "stream",
     "text": [
      "                                                  157\n",
      "7                Real Estate Management & Development\n",
      "8                                            60102040\n",
      "9                                Real Estate Services\n",
      "10  Real estate service providers such as real est...\n",
      "11  [\\n  {\\n    \"risk\": \"Increased insurance cost ...\n"
     ]
    },
    {
     "name": "stderr",
     "output_type": "stream",
     "text": [
      "Calculating embeddings: 100%|██████████| 1/1 [00:00<00:00,  8.28it/s]\n",
      "Upserted vectors: 100%|██████████| 1/1 [00:00<00:00, 13.30it/s]\n"
     ]
    }
   ],
   "source": [
    "import pandas as pd\n",
    "import time\n",
    "# pipeline.run(sources=[\"sample.csv\"], meta={\"date_added\": datetime.now().isoformat()})\n",
    "df = pd.read_csv(\"Gics_modified_gpt4_v2.csv\")\n",
    "for index, row in df.iterrows():\n",
    "    row.to_csv(\"temp_row.csv\", index=False)\n",
    "    small_df = pd.read_csv(\"temp_row.csv\")\n",
    "    print(small_df.tail(5))\n",
    "    pipeline.run({\"converter\": {\"sources\": [\"temp_row.csv\"], \"meta\": {}}})\n",
    "    time.sleep(1)\n"
   ]
  }
 ],
 "metadata": {
  "kernelspec": {
   "display_name": ".venv",
   "language": "python",
   "name": "python3"
  },
  "language_info": {
   "codemirror_mode": {
    "name": "ipython",
    "version": 3
   },
   "file_extension": ".py",
   "mimetype": "text/x-python",
   "name": "python",
   "nbconvert_exporter": "python",
   "pygments_lexer": "ipython3",
   "version": "3.11.8"
  }
 },
 "nbformat": 4,
 "nbformat_minor": 2
}
