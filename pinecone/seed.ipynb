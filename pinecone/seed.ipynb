{
 "cells": [
  {
   "cell_type": "code",
   "execution_count": 1,
   "metadata": {},
   "outputs": [
    {
     "name": "stderr",
     "output_type": "stream",
     "text": [
      "/Users/ccelson/Development/WorldClimate/ClimateRiskAI/.venv/lib/python3.11/site-packages/tqdm/auto.py:21: TqdmWarning: IProgress not found. Please update jupyter and ipywidgets. See https://ipywidgets.readthedocs.io/en/stable/user_install.html\n",
      "  from .autonotebook import tqdm as notebook_tqdm\n"
     ]
    }
   ],
   "source": [
    "# SPDX-FileCopyrightText: 2022-present deepset GmbH <info@deepset.ai>\n",
    "#\n",
    "# SPDX-License-Identifier: Apache-2.0\n",
    "\n",
    "import io\n",
    "from pathlib import Path\n",
    "from typing import Any, Dict, List, Optional, Union\n",
    "\n",
    "from haystack import Document, component, logging\n",
    "from haystack.components.converters.utils import get_bytestream_from_source, normalize_metadata\n",
    "from haystack.dataclasses import ByteStream\n",
    "\n",
    "logger = logging.getLogger(__name__)\n",
    "\n",
    "\n",
    "@component\n",
    "class CSVToDocument:\n",
    "    \"\"\"\n",
    "    Converts CSV files to Documents.\n",
    "\n",
    "    By default, it uses UTF-8 encoding when converting files but\n",
    "    you can also set a custom encoding.\n",
    "    It can attach metadata to the resulting documents.\n",
    "\n",
    "    ### Usage example\n",
    "\n",
    "    ```python\n",
    "    from haystack.components.converters.csv import CSVToDocument\n",
    "    converter = CSVToDocument()\n",
    "    results = converter.run(sources=[\"sample.csv\"], meta={\"date_added\": datetime.now().isoformat()})\n",
    "    documents = results[\"documents\"]\n",
    "    print(documents[0].content)\n",
    "    # 'col1,col2\\now1,row1\\nrow2row2\\n'\n",
    "    ```\n",
    "    \"\"\"\n",
    "\n",
    "    def __init__(self, encoding: str = \"utf-8\"):\n",
    "        \"\"\"\n",
    "        Creates a CSVToDocument component.\n",
    "\n",
    "        :param encoding:\n",
    "            The encoding of the csv files to convert.\n",
    "            If the encoding is specified in the metadata of a source ByteStream,\n",
    "            it overrides this value.\n",
    "        \"\"\"\n",
    "        self.encoding = encoding\n",
    "\n",
    "    @component.output_types(documents=List[Document])\n",
    "    def run(\n",
    "        self,\n",
    "        sources: List[Union[str, Path, ByteStream]],\n",
    "        meta: Optional[Union[Dict[str, Any], List[Dict[str, Any]]]] = None,\n",
    "    ):\n",
    "        \"\"\"\n",
    "        Converts a CSV file to a Document.\n",
    "\n",
    "        :param sources:\n",
    "            List of file paths or ByteStream objects.\n",
    "        :param meta:\n",
    "            Optional metadata to attach to the documents.\n",
    "            This value can be either a list of dictionaries or a single dictionary.\n",
    "            If it's a single dictionary, its content is added to the metadata of all produced documents.\n",
    "            If it's a list, the length of the list must match the number of sources, because the two lists will\n",
    "            be zipped.\n",
    "            If `sources` contains ByteStream objects, their `meta` will be added to the output documents.\n",
    "        :returns:\n",
    "            A dictionary with the following keys:\n",
    "            - `documents`: Created documents\n",
    "        \"\"\"\n",
    "        documents = []\n",
    "\n",
    "        meta_list = normalize_metadata(meta, sources_count=len(sources))\n",
    "\n",
    "        for source, metadata in zip(sources, meta_list):\n",
    "            try:\n",
    "                bytestream = get_bytestream_from_source(source)\n",
    "            except Exception as e:\n",
    "                logger.warning(\"Could not read {source}. Skipping it. Error: {error}\", source=source, error=e)\n",
    "                continue\n",
    "            try:\n",
    "                encoding = bytestream.meta.get(\"encoding\", self.encoding)\n",
    "                data = io.BytesIO(bytestream.data).getvalue().decode(encoding=encoding)\n",
    "            except Exception as e:\n",
    "                logger.warning(\n",
    "                    \"Could not convert file {source}. Skipping it. Error message: {error}\", source=source, error=e\n",
    "                )\n",
    "                continue\n",
    "\n",
    "            merged_metadata = {**bytestream.meta, **metadata}\n",
    "            document = Document(content=data, meta=merged_metadata)\n",
    "            documents.append(document)\n",
    "\n",
    "        return {\"documents\": documents}"
   ]
  },
  {
   "cell_type": "code",
   "execution_count": 2,
   "metadata": {},
   "outputs": [
    {
     "name": "stderr",
     "output_type": "stream",
     "text": [
      "/Users/ccelson/Development/WorldClimate/ClimateRiskAI/.venv/lib/python3.11/site-packages/pydantic/_internal/_config.py:341: UserWarning: Valid config keys have changed in V2:\n",
      "* 'allow_population_by_field_name' has been renamed to 'populate_by_name'\n",
      "* 'smart_union' has been removed\n",
      "  warnings.warn(message, UserWarning)\n"
     ]
    },
    {
     "data": {
      "text/plain": [
       "<haystack.core.pipeline.pipeline.Pipeline object at 0x28022c910>\n",
       "🚅 Components\n",
       "  - converter: CSVToDocument\n",
       "  - splitter: DocumentSplitter\n",
       "  - embedder: CohereDocumentEmbedder\n",
       "  - writer: DocumentWriter\n",
       "🛤️ Connections\n",
       "  - converter.documents -> splitter.documents (List[Document])\n",
       "  - splitter.documents -> embedder.documents (List[Document])\n",
       "  - embedder.documents -> writer.documents (List[Document])"
      ]
     },
     "execution_count": 2,
     "metadata": {},
     "output_type": "execute_result"
    }
   ],
   "source": [
    "import warnings\n",
    "from helper import load_env\n",
    "from haystack import Pipeline\n",
    "from haystack_integrations.document_stores.pinecone import PineconeDocumentStore\n",
    "from haystack.components.writers import DocumentWriter\n",
    "from haystack.components.preprocessors import DocumentSplitter\n",
    "from haystack_integrations.components.embedders.cohere.document_embedder import CohereDocumentEmbedder\n",
    "warnings.filterwarnings('ignore')\n",
    "load_env()\n",
    "\n",
    "document_store = PineconeDocumentStore(\n",
    "\t\tindex=\"industries\",\n",
    "\t\tnamespace=\"Classification\",\n",
    "        dimension=1024,\n",
    "        spec={\"serverless\": {\"region\": \"us-east-1\", \"cloud\": \"aws\"}},\n",
    ")\n",
    "\n",
    "pipeline = Pipeline()\n",
    "pipeline.add_component(\"converter\", CSVToDocument())\n",
    "pipeline.add_component(\"splitter\", DocumentSplitter(split_by=\"passage\", split_length=10, split_overlap=0))\n",
    "pipeline.add_component(\"embedder\", CohereDocumentEmbedder(model=\"embed-english-v3.0\"))\n",
    "pipeline.add_component(\"writer\", DocumentWriter(document_store=document_store))\n",
    "\n",
    "pipeline.connect(\"converter\", \"splitter\")\n",
    "pipeline.connect(\"splitter\", \"embedder\")\n",
    "pipeline.connect(\"embedder\", \"writer\")"
   ]
  },
  {
   "cell_type": "code",
   "execution_count": 3,
   "metadata": {},
   "outputs": [],
   "source": [
    "from datetime import datetime"
   ]
  },
  {
   "cell_type": "code",
   "execution_count": 4,
   "metadata": {},
   "outputs": [
    {
     "name": "stdout",
     "output_type": "stream",
     "text": [
      "                                                    0\n",
      "7                         Energy Equipment & Services\n",
      "8                                            10101010\n",
      "9                                  Oil & Gas Drilling\n",
      "10  Drilling contractors or owners of drilling rig...\n",
      "11  [\\n  {\\n    \"risk\": \"Higher frequency of extre...\n"
     ]
    },
    {
     "name": "stderr",
     "output_type": "stream",
     "text": [
      "Calculating embeddings: 100%|██████████| 1/1 [00:00<00:00,  1.33it/s]\n",
      "Upserted vectors: 100%|██████████| 1/1 [00:00<00:00,  3.63it/s]\n"
     ]
    },
    {
     "name": "stdout",
     "output_type": "stream",
     "text": [
      "                                                    0\n",
      "7                         Energy Equipment & Services\n",
      "8                                            10101010\n",
      "9                                  Oil & Gas Drilling\n",
      "10  Drilling contractors or owners of drilling rig...\n",
      "11  [\\n  {\\n    \"risk\": \"Higher frequency of extre...\n"
     ]
    },
    {
     "name": "stderr",
     "output_type": "stream",
     "text": [
      "Calculating embeddings: 100%|██████████| 1/1 [00:00<00:00,  7.91it/s]\n",
      "Upserted vectors: 100%|██████████| 1/1 [00:00<00:00,  3.29it/s]\n"
     ]
    },
    {
     "name": "stdout",
     "output_type": "stream",
     "text": [
      "                                                    0\n",
      "7                         Energy Equipment & Services\n",
      "8                                            10101010\n",
      "9                                  Oil & Gas Drilling\n",
      "10  Drilling contractors or owners of drilling rig...\n",
      "11  [\\n  {\\n    \"risk\": \"Higher frequency of extre...\n"
     ]
    },
    {
     "name": "stderr",
     "output_type": "stream",
     "text": [
      "Calculating embeddings: 100%|██████████| 1/1 [00:00<00:00,  7.71it/s]\n",
      "Upserted vectors: 100%|██████████| 1/1 [00:00<00:00,  4.47it/s]\n"
     ]
    },
    {
     "name": "stdout",
     "output_type": "stream",
     "text": [
      "                                                    0\n",
      "7                         Energy Equipment & Services\n",
      "8                                            10101010\n",
      "9                                  Oil & Gas Drilling\n",
      "10  Drilling contractors or owners of drilling rig...\n",
      "11  [\\n  {\\n    \"risk\": \"Higher frequency of extre...\n"
     ]
    },
    {
     "name": "stderr",
     "output_type": "stream",
     "text": [
      "Calculating embeddings: 100%|██████████| 1/1 [00:00<00:00,  7.46it/s]\n",
      "Upserted vectors: 100%|██████████| 1/1 [00:00<00:00,  7.97it/s]\n"
     ]
    },
    {
     "name": "stdout",
     "output_type": "stream",
     "text": [
      "                                                    0\n",
      "7                         Energy Equipment & Services\n",
      "8                                            10101010\n",
      "9                                  Oil & Gas Drilling\n",
      "10  Drilling contractors or owners of drilling rig...\n",
      "11  [\\n  {\\n    \"risk\": \"Higher frequency of extre...\n"
     ]
    },
    {
     "name": "stderr",
     "output_type": "stream",
     "text": [
      "Calculating embeddings: 100%|██████████| 1/1 [00:00<00:00,  1.70it/s]\n",
      "Upserted vectors: 100%|██████████| 1/1 [00:00<00:00,  5.78it/s]\n"
     ]
    },
    {
     "name": "stdout",
     "output_type": "stream",
     "text": [
      "                                                    0\n",
      "7                         Energy Equipment & Services\n",
      "8                                            10101010\n",
      "9                                  Oil & Gas Drilling\n",
      "10  Drilling contractors or owners of drilling rig...\n",
      "11  [\\n  {\\n    \"risk\": \"Higher frequency of extre...\n"
     ]
    },
    {
     "name": "stderr",
     "output_type": "stream",
     "text": [
      "Calculating embeddings: 100%|██████████| 1/1 [00:00<00:00,  6.92it/s]\n",
      "Upserted vectors: 100%|██████████| 1/1 [00:00<00:00,  7.41it/s]\n"
     ]
    },
    {
     "name": "stdout",
     "output_type": "stream",
     "text": [
      "                                                    0\n",
      "7                         Energy Equipment & Services\n",
      "8                                            10101010\n",
      "9                                  Oil & Gas Drilling\n",
      "10  Drilling contractors or owners of drilling rig...\n",
      "11  [\\n  {\\n    \"risk\": \"Higher frequency of extre...\n"
     ]
    },
    {
     "name": "stderr",
     "output_type": "stream",
     "text": [
      "Calculating embeddings: 100%|██████████| 1/1 [00:00<00:00,  8.92it/s]\n",
      "Upserted vectors: 100%|██████████| 1/1 [00:00<00:00,  6.94it/s]\n"
     ]
    },
    {
     "name": "stdout",
     "output_type": "stream",
     "text": [
      "                                                    0\n",
      "7                         Energy Equipment & Services\n",
      "8                                            10101010\n",
      "9                                  Oil & Gas Drilling\n",
      "10  Drilling contractors or owners of drilling rig...\n",
      "11  [\\n  {\\n    \"risk\": \"Higher frequency of extre...\n"
     ]
    },
    {
     "name": "stderr",
     "output_type": "stream",
     "text": [
      "Calculating embeddings: 100%|██████████| 1/1 [00:00<00:00,  8.39it/s]\n",
      "Upserted vectors: 100%|██████████| 1/1 [00:00<00:00,  2.63it/s]\n"
     ]
    },
    {
     "name": "stdout",
     "output_type": "stream",
     "text": [
      "                                                    0\n",
      "7                         Energy Equipment & Services\n",
      "8                                            10101010\n",
      "9                                  Oil & Gas Drilling\n",
      "10  Drilling contractors or owners of drilling rig...\n",
      "11  [\\n  {\\n    \"risk\": \"Higher frequency of extre...\n"
     ]
    },
    {
     "name": "stderr",
     "output_type": "stream",
     "text": [
      "Calculating embeddings: 100%|██████████| 1/1 [00:00<00:00,  7.62it/s]\n",
      "Upserted vectors: 100%|██████████| 1/1 [00:00<00:00,  6.17it/s]\n"
     ]
    },
    {
     "name": "stdout",
     "output_type": "stream",
     "text": [
      "                                                    0\n",
      "7                         Energy Equipment & Services\n",
      "8                                            10101010\n",
      "9                                  Oil & Gas Drilling\n",
      "10  Drilling contractors or owners of drilling rig...\n",
      "11  [\\n  {\\n    \"risk\": \"Higher frequency of extre...\n"
     ]
    },
    {
     "name": "stderr",
     "output_type": "stream",
     "text": [
      "Calculating embeddings: 100%|██████████| 1/1 [00:00<00:00,  8.37it/s]\n",
      "Upserted vectors: 100%|██████████| 1/1 [00:00<00:00,  3.03it/s]\n"
     ]
    },
    {
     "name": "stdout",
     "output_type": "stream",
     "text": [
      "                                                    0\n",
      "7                         Energy Equipment & Services\n",
      "8                                            10101010\n",
      "9                                  Oil & Gas Drilling\n",
      "10  Drilling contractors or owners of drilling rig...\n",
      "11  [\\n  {\\n    \"risk\": \"Higher frequency of extre...\n"
     ]
    },
    {
     "name": "stderr",
     "output_type": "stream",
     "text": [
      "Calculating embeddings: 100%|██████████| 1/1 [00:00<00:00,  7.19it/s]\n",
      "Upserted vectors: 100%|██████████| 1/1 [00:00<00:00,  2.61it/s]\n"
     ]
    },
    {
     "name": "stdout",
     "output_type": "stream",
     "text": [
      "                                                    0\n",
      "7                         Energy Equipment & Services\n",
      "8                                            10101010\n",
      "9                                  Oil & Gas Drilling\n",
      "10  Drilling contractors or owners of drilling rig...\n",
      "11  [\\n  {\\n    \"risk\": \"Higher frequency of extre...\n"
     ]
    },
    {
     "name": "stderr",
     "output_type": "stream",
     "text": [
      "Calculating embeddings: 100%|██████████| 1/1 [00:00<00:00,  8.37it/s]\n",
      "Upserted vectors: 100%|██████████| 1/1 [00:00<00:00,  6.65it/s]\n"
     ]
    },
    {
     "name": "stdout",
     "output_type": "stream",
     "text": [
      "                                                    0\n",
      "7                         Energy Equipment & Services\n",
      "8                                            10101010\n",
      "9                                  Oil & Gas Drilling\n",
      "10  Drilling contractors or owners of drilling rig...\n",
      "11  [\\n  {\\n    \"risk\": \"Higher frequency of extre...\n"
     ]
    },
    {
     "name": "stderr",
     "output_type": "stream",
     "text": [
      "Calculating embeddings: 100%|██████████| 1/1 [00:00<00:00,  8.22it/s]\n",
      "Upserted vectors: 100%|██████████| 1/1 [00:00<00:00, 13.19it/s]\n"
     ]
    },
    {
     "name": "stdout",
     "output_type": "stream",
     "text": [
      "                                                    0\n",
      "7                         Energy Equipment & Services\n",
      "8                                            10101010\n",
      "9                                  Oil & Gas Drilling\n",
      "10  Drilling contractors or owners of drilling rig...\n",
      "11  [\\n  {\\n    \"risk\": \"Higher frequency of extre...\n"
     ]
    },
    {
     "name": "stderr",
     "output_type": "stream",
     "text": [
      "Calculating embeddings: 100%|██████████| 1/1 [00:00<00:00,  7.33it/s]\n",
      "Upserted vectors: 100%|██████████| 1/1 [00:00<00:00,  4.62it/s]\n"
     ]
    },
    {
     "name": "stdout",
     "output_type": "stream",
     "text": [
      "                                                    0\n",
      "7                         Energy Equipment & Services\n",
      "8                                            10101010\n",
      "9                                  Oil & Gas Drilling\n",
      "10  Drilling contractors or owners of drilling rig...\n",
      "11  [\\n  {\\n    \"risk\": \"Higher frequency of extre...\n"
     ]
    },
    {
     "name": "stderr",
     "output_type": "stream",
     "text": [
      "Calculating embeddings: 100%|██████████| 1/1 [00:00<00:00,  7.55it/s]\n",
      "Upserted vectors: 100%|██████████| 1/1 [00:00<00:00,  7.95it/s]\n"
     ]
    },
    {
     "name": "stdout",
     "output_type": "stream",
     "text": [
      "                                                    0\n",
      "7                         Energy Equipment & Services\n",
      "8                                            10101010\n",
      "9                                  Oil & Gas Drilling\n",
      "10  Drilling contractors or owners of drilling rig...\n",
      "11  [\\n  {\\n    \"risk\": \"Higher frequency of extre...\n"
     ]
    },
    {
     "name": "stderr",
     "output_type": "stream",
     "text": [
      "Calculating embeddings: 100%|██████████| 1/1 [00:00<00:00,  7.39it/s]\n",
      "Upserted vectors: 100%|██████████| 1/1 [00:00<00:00, 12.68it/s]\n"
     ]
    },
    {
     "name": "stdout",
     "output_type": "stream",
     "text": [
      "                                                    0\n",
      "7                         Energy Equipment & Services\n",
      "8                                            10101010\n",
      "9                                  Oil & Gas Drilling\n",
      "10  Drilling contractors or owners of drilling rig...\n",
      "11  [\\n  {\\n    \"risk\": \"Higher frequency of extre...\n"
     ]
    },
    {
     "name": "stderr",
     "output_type": "stream",
     "text": [
      "Calculating embeddings: 100%|██████████| 1/1 [00:00<00:00,  8.66it/s]\n",
      "Upserted vectors: 100%|██████████| 1/1 [00:00<00:00,  7.88it/s]\n"
     ]
    },
    {
     "name": "stdout",
     "output_type": "stream",
     "text": [
      "                                                    0\n",
      "7                         Energy Equipment & Services\n",
      "8                                            10101010\n",
      "9                                  Oil & Gas Drilling\n",
      "10  Drilling contractors or owners of drilling rig...\n",
      "11  [\\n  {\\n    \"risk\": \"Higher frequency of extre...\n"
     ]
    },
    {
     "name": "stderr",
     "output_type": "stream",
     "text": [
      "Calculating embeddings: 100%|██████████| 1/1 [00:00<00:00,  8.03it/s]\n",
      "Upserted vectors: 100%|██████████| 1/1 [00:00<00:00,  9.36it/s]\n"
     ]
    },
    {
     "ename": "KeyboardInterrupt",
     "evalue": "",
     "output_type": "error",
     "traceback": [
      "\u001b[0;31m---------------------------------------------------------------------------\u001b[0m",
      "\u001b[0;31mKeyboardInterrupt\u001b[0m                         Traceback (most recent call last)",
      "Cell \u001b[0;32mIn[4], line 10\u001b[0m\n\u001b[1;32m      8\u001b[0m \u001b[38;5;28mprint\u001b[39m(small_df\u001b[38;5;241m.\u001b[39mtail(\u001b[38;5;241m5\u001b[39m))\n\u001b[1;32m      9\u001b[0m pipeline\u001b[38;5;241m.\u001b[39mrun({\u001b[38;5;124m\"\u001b[39m\u001b[38;5;124mconverter\u001b[39m\u001b[38;5;124m\"\u001b[39m: {\u001b[38;5;124m\"\u001b[39m\u001b[38;5;124msources\u001b[39m\u001b[38;5;124m\"\u001b[39m: [\u001b[38;5;124m\"\u001b[39m\u001b[38;5;124mtemp_row.csv\u001b[39m\u001b[38;5;124m\"\u001b[39m], \u001b[38;5;124m\"\u001b[39m\u001b[38;5;124mmeta\u001b[39m\u001b[38;5;124m\"\u001b[39m: {}}})\n\u001b[0;32m---> 10\u001b[0m time\u001b[38;5;241m.\u001b[39msleep(\u001b[38;5;241m1\u001b[39m)\n",
      "\u001b[0;31mKeyboardInterrupt\u001b[0m: "
     ]
    }
   ],
   "source": [
    "import pandas as pd\n",
    "import time\n",
    "# pipeline.run(sources=[\"sample.csv\"], meta={\"date_added\": datetime.now().isoformat()})\n",
    "df = pd.read_csv(\"Gics_modified_gpt4_v2.csv\")\n",
    "for index, row in df.iterrows():\n",
    "    row.to_csv(\"temp_row.csv\", index=False)\n",
    "    small_df = pd.read_csv(\"temp_row.csv\")\n",
    "    print(small_df.tail(5))\n",
    "    pipeline.run({\"converter\": {\"sources\": [\"temp_row.csv\"], \"meta\": {}}})\n",
    "    time.sleep(1)\n"
   ]
  }
 ],
 "metadata": {
  "kernelspec": {
   "display_name": ".venv",
   "language": "python",
   "name": "python3"
  },
  "language_info": {
   "codemirror_mode": {
    "name": "ipython",
    "version": 3
   },
   "file_extension": ".py",
   "mimetype": "text/x-python",
   "name": "python",
   "nbconvert_exporter": "python",
   "pygments_lexer": "ipython3",
   "version": "3.11.8"
  }
 },
 "nbformat": 4,
 "nbformat_minor": 2
}
